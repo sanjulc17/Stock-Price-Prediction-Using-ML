{
  "nbformat": 4,
  "nbformat_minor": 0,
  "metadata": {
    "colab": {
      "name": "Stock _price_prediction.ipynb",
      "provenance": [],
      "collapsed_sections": [],
      "authorship_tag": "ABX9TyNYttZCs3ROvZntL5PdhzW6",
      "include_colab_link": true
    },
    "kernelspec": {
      "name": "python3",
      "display_name": "Python 3"
    },
    "language_info": {
      "name": "python"
    }
  },
  "cells": [
    {
      "cell_type": "markdown",
      "metadata": {
        "id": "view-in-github",
        "colab_type": "text"
      },
      "source": [
        "<a href=\"https://colab.research.google.com/github/sanjulc17/Stock-Price-Prediction-Using-ML/blob/main/Stock__price_prediction.ipynb\" target=\"_parent\"><img src=\"https://colab.research.google.com/assets/colab-badge.svg\" alt=\"Open In Colab\"/></a>"
      ]
    },
    {
      "cell_type": "markdown",
      "source": [
        "# Steps :"
      ],
      "metadata": {
        "id": "DZD9RfeGbvmw"
      }
    },
    {
      "cell_type": "markdown",
      "source": [
        "# 1. We will collect the stock data --AAPL\n",
        "# 2. preprocess the Data - Train and Test\n",
        "# 3. Create An Stacked LSTM MODEL.\n",
        "# 4. Predict the test data and plot the output\n",
        "# 5. Predict the future 30 days and plot the output\n",
        "\n"
      ],
      "metadata": {
        "id": "d-qzX9bzbKpH"
      }
    },
    {
      "cell_type": "code",
      "source": [
        "### Keras and Tensorflow >2.0"
      ],
      "metadata": {
        "id": "NETFJFuVcwkG"
      },
      "execution_count": null,
      "outputs": []
    },
    {
      "cell_type": "code",
      "source": [
        "### Data Collection\n",
        "import pandas_datareader as pdr\n",
        "key=\"To be added\""
      ],
      "metadata": {
        "id": "29sM5n1ebGrc"
      },
      "execution_count": 1,
      "outputs": []
    },
    {
      "cell_type": "code",
      "source": [
        "df = pdr.get_data_tiingo('AAPL', api_key=key)\n"
      ],
      "metadata": {
        "id": "1D9gq1aLazJu"
      },
      "execution_count": null,
      "outputs": []
    },
    {
      "cell_type": "code",
      "source": [
        "df.to_csv('AAPL.csv')\n"
      ],
      "metadata": {
        "id": "hRe20B7Ca8kV"
      },
      "execution_count": null,
      "outputs": []
    },
    {
      "cell_type": "code",
      "source": [
        "import pandas as pd"
      ],
      "metadata": {
        "id": "hdf9gaCjdIJq"
      },
      "execution_count": null,
      "outputs": []
    },
    {
      "cell_type": "code",
      "source": [
        "df=pd.read_csv('AAPL.csv')"
      ],
      "metadata": {
        "id": "IVPXKuW2dKSp"
      },
      "execution_count": null,
      "outputs": []
    },
    {
      "cell_type": "code",
      "source": [
        "df.tail()"
      ],
      "metadata": {
        "colab": {
          "base_uri": "https://localhost:8080/",
          "height": 206
        },
        "id": "hSoQ889wfkX4",
        "outputId": "9c65fc3a-c791-4009-df4e-3300450cc737"
      },
      "execution_count": null,
      "outputs": [
        {
          "output_type": "execute_result",
          "data": {
            "text/html": [
              "\n",
              "  <div id=\"df-fd6aaa9e-2410-4d8b-9d26-fdab0f593535\">\n",
              "    <div class=\"colab-df-container\">\n",
              "      <div>\n",
              "<style scoped>\n",
              "    .dataframe tbody tr th:only-of-type {\n",
              "        vertical-align: middle;\n",
              "    }\n",
              "\n",
              "    .dataframe tbody tr th {\n",
              "        vertical-align: top;\n",
              "    }\n",
              "\n",
              "    .dataframe thead th {\n",
              "        text-align: right;\n",
              "    }\n",
              "</style>\n",
              "<table border=\"1\" class=\"dataframe\">\n",
              "  <thead>\n",
              "    <tr style=\"text-align: right;\">\n",
              "      <th></th>\n",
              "      <th>symbol</th>\n",
              "      <th>date</th>\n",
              "      <th>close</th>\n",
              "      <th>high</th>\n",
              "      <th>low</th>\n",
              "      <th>open</th>\n",
              "      <th>volume</th>\n",
              "      <th>adjClose</th>\n",
              "      <th>adjHigh</th>\n",
              "      <th>adjLow</th>\n",
              "      <th>adjOpen</th>\n",
              "      <th>adjVolume</th>\n",
              "      <th>divCash</th>\n",
              "      <th>splitFactor</th>\n",
              "    </tr>\n",
              "  </thead>\n",
              "  <tbody>\n",
              "    <tr>\n",
              "      <th>1255</th>\n",
              "      <td>AAPL</td>\n",
              "      <td>2022-01-10 00:00:00+00:00</td>\n",
              "      <td>172.19</td>\n",
              "      <td>172.50</td>\n",
              "      <td>168.17</td>\n",
              "      <td>169.08</td>\n",
              "      <td>106765552</td>\n",
              "      <td>172.19</td>\n",
              "      <td>172.50</td>\n",
              "      <td>168.17</td>\n",
              "      <td>169.08</td>\n",
              "      <td>106765552</td>\n",
              "      <td>0.0</td>\n",
              "      <td>1.0</td>\n",
              "    </tr>\n",
              "    <tr>\n",
              "      <th>1256</th>\n",
              "      <td>AAPL</td>\n",
              "      <td>2022-01-11 00:00:00+00:00</td>\n",
              "      <td>175.08</td>\n",
              "      <td>175.18</td>\n",
              "      <td>170.82</td>\n",
              "      <td>172.32</td>\n",
              "      <td>75937685</td>\n",
              "      <td>175.08</td>\n",
              "      <td>175.18</td>\n",
              "      <td>170.82</td>\n",
              "      <td>172.32</td>\n",
              "      <td>75937685</td>\n",
              "      <td>0.0</td>\n",
              "      <td>1.0</td>\n",
              "    </tr>\n",
              "    <tr>\n",
              "      <th>1257</th>\n",
              "      <td>AAPL</td>\n",
              "      <td>2022-01-12 00:00:00+00:00</td>\n",
              "      <td>175.53</td>\n",
              "      <td>177.18</td>\n",
              "      <td>174.82</td>\n",
              "      <td>176.12</td>\n",
              "      <td>74805173</td>\n",
              "      <td>175.53</td>\n",
              "      <td>177.18</td>\n",
              "      <td>174.82</td>\n",
              "      <td>176.12</td>\n",
              "      <td>74805173</td>\n",
              "      <td>0.0</td>\n",
              "      <td>1.0</td>\n",
              "    </tr>\n",
              "    <tr>\n",
              "      <th>1258</th>\n",
              "      <td>AAPL</td>\n",
              "      <td>2022-01-13 00:00:00+00:00</td>\n",
              "      <td>172.19</td>\n",
              "      <td>176.62</td>\n",
              "      <td>171.79</td>\n",
              "      <td>175.78</td>\n",
              "      <td>84505760</td>\n",
              "      <td>172.19</td>\n",
              "      <td>176.62</td>\n",
              "      <td>171.79</td>\n",
              "      <td>175.78</td>\n",
              "      <td>84505760</td>\n",
              "      <td>0.0</td>\n",
              "      <td>1.0</td>\n",
              "    </tr>\n",
              "    <tr>\n",
              "      <th>1259</th>\n",
              "      <td>AAPL</td>\n",
              "      <td>2022-01-14 00:00:00+00:00</td>\n",
              "      <td>173.07</td>\n",
              "      <td>173.78</td>\n",
              "      <td>171.09</td>\n",
              "      <td>171.34</td>\n",
              "      <td>80440780</td>\n",
              "      <td>173.07</td>\n",
              "      <td>173.78</td>\n",
              "      <td>171.09</td>\n",
              "      <td>171.34</td>\n",
              "      <td>80440780</td>\n",
              "      <td>0.0</td>\n",
              "      <td>1.0</td>\n",
              "    </tr>\n",
              "  </tbody>\n",
              "</table>\n",
              "</div>\n",
              "      <button class=\"colab-df-convert\" onclick=\"convertToInteractive('df-fd6aaa9e-2410-4d8b-9d26-fdab0f593535')\"\n",
              "              title=\"Convert this dataframe to an interactive table.\"\n",
              "              style=\"display:none;\">\n",
              "        \n",
              "  <svg xmlns=\"http://www.w3.org/2000/svg\" height=\"24px\"viewBox=\"0 0 24 24\"\n",
              "       width=\"24px\">\n",
              "    <path d=\"M0 0h24v24H0V0z\" fill=\"none\"/>\n",
              "    <path d=\"M18.56 5.44l.94 2.06.94-2.06 2.06-.94-2.06-.94-.94-2.06-.94 2.06-2.06.94zm-11 1L8.5 8.5l.94-2.06 2.06-.94-2.06-.94L8.5 2.5l-.94 2.06-2.06.94zm10 10l.94 2.06.94-2.06 2.06-.94-2.06-.94-.94-2.06-.94 2.06-2.06.94z\"/><path d=\"M17.41 7.96l-1.37-1.37c-.4-.4-.92-.59-1.43-.59-.52 0-1.04.2-1.43.59L10.3 9.45l-7.72 7.72c-.78.78-.78 2.05 0 2.83L4 21.41c.39.39.9.59 1.41.59.51 0 1.02-.2 1.41-.59l7.78-7.78 2.81-2.81c.8-.78.8-2.07 0-2.86zM5.41 20L4 18.59l7.72-7.72 1.47 1.35L5.41 20z\"/>\n",
              "  </svg>\n",
              "      </button>\n",
              "      \n",
              "  <style>\n",
              "    .colab-df-container {\n",
              "      display:flex;\n",
              "      flex-wrap:wrap;\n",
              "      gap: 12px;\n",
              "    }\n",
              "\n",
              "    .colab-df-convert {\n",
              "      background-color: #E8F0FE;\n",
              "      border: none;\n",
              "      border-radius: 50%;\n",
              "      cursor: pointer;\n",
              "      display: none;\n",
              "      fill: #1967D2;\n",
              "      height: 32px;\n",
              "      padding: 0 0 0 0;\n",
              "      width: 32px;\n",
              "    }\n",
              "\n",
              "    .colab-df-convert:hover {\n",
              "      background-color: #E2EBFA;\n",
              "      box-shadow: 0px 1px 2px rgba(60, 64, 67, 0.3), 0px 1px 3px 1px rgba(60, 64, 67, 0.15);\n",
              "      fill: #174EA6;\n",
              "    }\n",
              "\n",
              "    [theme=dark] .colab-df-convert {\n",
              "      background-color: #3B4455;\n",
              "      fill: #D2E3FC;\n",
              "    }\n",
              "\n",
              "    [theme=dark] .colab-df-convert:hover {\n",
              "      background-color: #434B5C;\n",
              "      box-shadow: 0px 1px 3px 1px rgba(0, 0, 0, 0.15);\n",
              "      filter: drop-shadow(0px 1px 2px rgba(0, 0, 0, 0.3));\n",
              "      fill: #FFFFFF;\n",
              "    }\n",
              "  </style>\n",
              "\n",
              "      <script>\n",
              "        const buttonEl =\n",
              "          document.querySelector('#df-fd6aaa9e-2410-4d8b-9d26-fdab0f593535 button.colab-df-convert');\n",
              "        buttonEl.style.display =\n",
              "          google.colab.kernel.accessAllowed ? 'block' : 'none';\n",
              "\n",
              "        async function convertToInteractive(key) {\n",
              "          const element = document.querySelector('#df-fd6aaa9e-2410-4d8b-9d26-fdab0f593535');\n",
              "          const dataTable =\n",
              "            await google.colab.kernel.invokeFunction('convertToInteractive',\n",
              "                                                     [key], {});\n",
              "          if (!dataTable) return;\n",
              "\n",
              "          const docLinkHtml = 'Like what you see? Visit the ' +\n",
              "            '<a target=\"_blank\" href=https://colab.research.google.com/notebooks/data_table.ipynb>data table notebook</a>'\n",
              "            + ' to learn more about interactive tables.';\n",
              "          element.innerHTML = '';\n",
              "          dataTable['output_type'] = 'display_data';\n",
              "          await google.colab.output.renderOutput(dataTable, element);\n",
              "          const docLink = document.createElement('div');\n",
              "          docLink.innerHTML = docLinkHtml;\n",
              "          element.appendChild(docLink);\n",
              "        }\n",
              "      </script>\n",
              "    </div>\n",
              "  </div>\n",
              "  "
            ],
            "text/plain": [
              "     symbol                       date   close  ...  adjVolume  divCash  splitFactor\n",
              "1255   AAPL  2022-01-10 00:00:00+00:00  172.19  ...  106765552      0.0          1.0\n",
              "1256   AAPL  2022-01-11 00:00:00+00:00  175.08  ...   75937685      0.0          1.0\n",
              "1257   AAPL  2022-01-12 00:00:00+00:00  175.53  ...   74805173      0.0          1.0\n",
              "1258   AAPL  2022-01-13 00:00:00+00:00  172.19  ...   84505760      0.0          1.0\n",
              "1259   AAPL  2022-01-14 00:00:00+00:00  173.07  ...   80440780      0.0          1.0\n",
              "\n",
              "[5 rows x 14 columns]"
            ]
          },
          "metadata": {},
          "execution_count": 7
        }
      ]
    },
    {
      "cell_type": "code",
      "source": [
        "df2=df.reset_index()['close']\n"
      ],
      "metadata": {
        "id": "bANunVzndQ-l"
      },
      "execution_count": null,
      "outputs": []
    },
    {
      "cell_type": "code",
      "source": [
        "df1 =df.reset_index()['close']##df2[1228:] we can do this as well"
      ],
      "metadata": {
        "id": "NQ6Dv33TdWbj"
      },
      "execution_count": null,
      "outputs": []
    },
    {
      "cell_type": "code",
      "source": [
        "df1.shape"
      ],
      "metadata": {
        "colab": {
          "base_uri": "https://localhost:8080/"
        },
        "id": "38A4kc0VdZD4",
        "outputId": "f3da1798-7d46-4c6a-d643-211391bc4c59"
      },
      "execution_count": null,
      "outputs": [
        {
          "output_type": "execute_result",
          "data": {
            "text/plain": [
              "(1260,)"
            ]
          },
          "metadata": {},
          "execution_count": 10
        }
      ]
    },
    {
      "cell_type": "code",
      "source": [
        ""
      ],
      "metadata": {
        "id": "HgmofPfDdaCR"
      },
      "execution_count": null,
      "outputs": []
    },
    {
      "cell_type": "code",
      "source": [
        "df1"
      ],
      "metadata": {
        "colab": {
          "base_uri": "https://localhost:8080/"
        },
        "id": "6gsHidYRh57e",
        "outputId": "04dd6306-0f05-4ae8-dd32-36204df5455e"
      },
      "execution_count": null,
      "outputs": [
        {
          "output_type": "execute_result",
          "data": {
            "text/plain": [
              "0       120.00\n",
              "1       119.99\n",
              "2       119.78\n",
              "3       120.00\n",
              "4       120.08\n",
              "         ...  \n",
              "1255    172.19\n",
              "1256    175.08\n",
              "1257    175.53\n",
              "1258    172.19\n",
              "1259    173.07\n",
              "Name: close, Length: 1260, dtype: float64"
            ]
          },
          "metadata": {},
          "execution_count": 11
        }
      ]
    },
    {
      "cell_type": "code",
      "source": [
        "import matplotlib.pyplot as plt\n",
        "plt.plot(df1)"
      ],
      "metadata": {
        "colab": {
          "base_uri": "https://localhost:8080/",
          "height": 282
        },
        "id": "n6OSCjKxd1Xx",
        "outputId": "b6104bcc-2511-4ebf-b590-1861b63471f5"
      },
      "execution_count": null,
      "outputs": [
        {
          "output_type": "execute_result",
          "data": {
            "text/plain": [
              "[<matplotlib.lines.Line2D at 0x7f587177e490>]"
            ]
          },
          "metadata": {},
          "execution_count": 12
        },
        {
          "output_type": "display_data",
          "data": {
            "image/png": "[encoded data removed]",
            "text/plain": [
              "<Figure size 432x288 with 1 Axes>"
            ]
          },
          "metadata": {
            "needs_background": "light"
          }
        }
      ]
    },
    {
      "cell_type": "code",
      "source": [
        "# LSTM are sensitive to the scale of the data , so we apply MinMax scalar"
      ],
      "metadata": {
        "id": "tAt1L_9EiVa2"
      },
      "execution_count": null,
      "outputs": []
    },
    {
      "cell_type": "code",
      "source": [
        "import numpy as np"
      ],
      "metadata": {
        "id": "GVIRgwGLdaKD"
      },
      "execution_count": null,
      "outputs": []
    },
    {
      "cell_type": "code",
      "source": [
        "from sklearn.preprocessing import MinMaxScaler \n",
        "Scaler = MinMaxScaler(feature_range=(0,1))\n",
        "df1=Scaler.fit_transform(np.array(df1).reshape(-1,1))"
      ],
      "metadata": {
        "id": "AEECpbyWdaPO"
      },
      "execution_count": null,
      "outputs": []
    },
    {
      "cell_type": "code",
      "source": [
        "df1"
      ],
      "metadata": {
        "colab": {
          "base_uri": "https://localhost:8080/"
        },
        "id": "_huwy2r9tLsd",
        "outputId": "757cefe6-4b30-48f1-8f56-48cfca4c4865"
      },
      "execution_count": null,
      "outputs": [
        {
          "output_type": "execute_result",
          "data": {
            "text/plain": [
              "array([[0.0329618 ],\n",
              "       [0.03293676],\n",
              "       [0.03241077],\n",
              "       ...,\n",
              "       [0.17204759],\n",
              "       [0.1636819 ],\n",
              "       [0.16588604]])"
            ]
          },
          "metadata": {},
          "execution_count": 16
        }
      ]
    },
    {
      "cell_type": "code",
      "source": [
        "\n",
        "df1.shape"
      ],
      "metadata": {
        "colab": {
          "base_uri": "https://localhost:8080/"
        },
        "id": "NH3Zy0fJdaSK",
        "outputId": "6195df87-f57f-4b37-f6e1-fce2639fc2df"
      },
      "execution_count": null,
      "outputs": [
        {
          "output_type": "execute_result",
          "data": {
            "text/plain": [
              "(1260, 1)"
            ]
          },
          "metadata": {},
          "execution_count": 17
        }
      ]
    },
    {
      "cell_type": "code",
      "source": [
        "### splitting dataset into train and test split\n",
        "training_size= int(len(df1)*0.65)\n",
        "test_size=len(df1)-training_size\n",
        "train_data,test_data=df1[0:training_size,:],df1[training_size:len(df1),:1]"
      ],
      "metadata": {
        "id": "W3FO69UjdaWq"
      },
      "execution_count": null,
      "outputs": []
    },
    {
      "cell_type": "code",
      "source": [
        "training_size, test_size"
      ],
      "metadata": {
        "colab": {
          "base_uri": "https://localhost:8080/"
        },
        "id": "u0BuImRzd5G2",
        "outputId": "983b0c83-d329-450e-c99b-c3ff7115ca4b"
      },
      "execution_count": null,
      "outputs": [
        {
          "output_type": "execute_result",
          "data": {
            "text/plain": [
              "(819, 441)"
            ]
          },
          "metadata": {},
          "execution_count": 19
        }
      ]
    },
    {
      "cell_type": "code",
      "source": [
        "import numpy\n",
        "# concert an array of values into a dataset matrix\n",
        "def create_dataset(dataset, time_step=1):\n",
        "  dataX, dataY = [],[]\n",
        "  for i in range(len(dataset) - time_step -1):\n",
        "       a = dataset[i:(i+time_step), 0]  ### i=0, 0,1,2,3\n",
        "       dataX.append(a)\n",
        "       dataY.append(dataset[i+ time_step, 0])\n",
        "  return numpy.array(dataX), numpy.array(dataY)"
      ],
      "metadata": {
        "id": "0fKu5VLGueY8"
      },
      "execution_count": null,
      "outputs": []
    },
    {
      "cell_type": "code",
      "source": [
        "# reshape into X=t, t+1,t+2, t+3 and Y=t+4\n",
        "time_step = 100\n",
        "X_train, y_train = create_dataset(train_data, time_step)\n",
        "X_test, ytest = create_dataset(test_data, time_step)"
      ],
      "metadata": {
        "id": "3pXmD4m3e8nj"
      },
      "execution_count": null,
      "outputs": []
    },
    {
      "cell_type": "code",
      "source": [
        "print(X_train.shape), print(y_train.shape)"
      ],
      "metadata": {
        "colab": {
          "base_uri": "https://localhost:8080/"
        },
        "id": "cwIB2BrJfVA-",
        "outputId": "d51de405-9847-44b4-e07f-65b519319004"
      },
      "execution_count": null,
      "outputs": [
        {
          "output_type": "stream",
          "name": "stdout",
          "text": [
            "(718, 100)\n",
            "(718,)\n"
          ]
        },
        {
          "output_type": "execute_result",
          "data": {
            "text/plain": [
              "(None, None)"
            ]
          },
          "metadata": {},
          "execution_count": 22
        }
      ]
    },
    {
      "cell_type": "code",
      "source": [
        "print(X_test.shape), print(ytest.shape)"
      ],
      "metadata": {
        "colab": {
          "base_uri": "https://localhost:8080/"
        },
        "id": "P4SWzgXsfW-o",
        "outputId": "048511e8-bf81-4e5c-b34a-c019615bb894"
      },
      "execution_count": null,
      "outputs": [
        {
          "output_type": "stream",
          "name": "stdout",
          "text": [
            "(340, 100)\n",
            "(340,)\n"
          ]
        },
        {
          "output_type": "execute_result",
          "data": {
            "text/plain": [
              "(None, None)"
            ]
          },
          "metadata": {},
          "execution_count": 23
        }
      ]
    },
    {
      "cell_type": "code",
      "source": [
        ""
      ],
      "metadata": {
        "id": "6fZwq_lDhL-a"
      },
      "execution_count": null,
      "outputs": []
    },
    {
      "cell_type": "markdown",
      "source": [
        "# Create a stacked LSTM MODEL"
      ],
      "metadata": {
        "id": "QG8L2Mvghggo"
      }
    },
    {
      "cell_type": "code",
      "source": [
        "# reshape input to be [samples, time steps, features] which is required for LSTM\n",
        "X_train =   X_train.reshape(X_train.shape[0],X_train.shape[1], 1)\n",
        "X_test = X_test.reshape(X_test.shape[0], X_test.shape[1], 1)"
      ],
      "metadata": {
        "id": "kvy4UNArhmgo"
      },
      "execution_count": null,
      "outputs": []
    },
    {
      "cell_type": "code",
      "source": [
        "### Create the  Stacked LSTM model\n",
        "from tensorflow.keras.models import Sequential\n",
        "from tensorflow.keras.layers import Dense\n",
        "from tensorflow.keras.layers import LSTM"
      ],
      "metadata": {
        "id": "SENQGiXJiKN8"
      },
      "execution_count": null,
      "outputs": []
    },
    {
      "cell_type": "code",
      "source": [
        "model = Sequential()\n",
        "model.add(LSTM(50,return_sequences = True, input_shape=(100, 1)))\n",
        "model.add(LSTM(50, return_sequences=True))\n",
        "model.add(LSTM(50))\n",
        "model.add(Dense(1))\n",
        "model.compile(loss='mean_squared_error',optimizer='adam')\n"
      ],
      "metadata": {
        "id": "rSmJB5s0ijef"
      },
      "execution_count": null,
      "outputs": []
    },
    {
      "cell_type": "code",
      "source": [
        "model.summary()"
      ],
      "metadata": {
        "colab": {
          "base_uri": "https://localhost:8080/"
        },
        "id": "EGmsOkgTjd3x",
        "outputId": "b3441ae2-f248-4b66-c187-03ace72e6b22"
      },
      "execution_count": null,
      "outputs": [
        {
          "output_type": "stream",
          "name": "stdout",
          "text": [
            "Model: \"sequential\"\n",
            "_________________________________________________________________\n",
            " Layer (type)                Output Shape              Param #   \n",
            "=================================================================\n",
            " lstm (LSTM)                 (None, 100, 50)           10400     \n",
            "                                                                 \n",
            " lstm_1 (LSTM)               (None, 100, 50)           20200     \n",
            "                                                                 \n",
            " lstm_2 (LSTM)               (None, 50)                20200     \n",
            "                                                                 \n",
            " dense (Dense)               (None, 1)                 51        \n",
            "                                                                 \n",
            "=================================================================\n",
            "Total params: 50,851\n",
            "Trainable params: 50,851\n",
            "Non-trainable params: 0\n",
            "_________________________________________________________________\n"
          ]
        }
      ]
    },
    {
      "cell_type": "code",
      "source": [
        "model.fit(X_train,y_train,validation_data=(X_test,ytest),epochs=100,batch_size=64,verbose=1)"
      ],
      "metadata": {
        "colab": {
          "base_uri": "https://localhost:8080/"
        },
        "id": "zpHU83PmkFbE",
        "outputId": "29313cba-bac2-477e-eea0-54e634d1e50d"
      },
      "execution_count": null,
      "outputs": [
        {
          "output_type": "stream",
          "name": "stdout",
          "text": [
            "Epoch 1/100\n",
            "12/12 [==============================] - 9s 330ms/step - loss: 0.0250 - val_loss: 0.0103\n",
            "Epoch 2/100\n",
            "12/12 [==============================] - 3s 211ms/step - loss: 0.0043 - val_loss: 0.0132\n",
            "Epoch 3/100\n",
            "12/12 [==============================] - 3s 210ms/step - loss: 0.0019 - val_loss: 0.0071\n",
            "Epoch 4/100\n",
            "12/12 [==============================] - 3s 212ms/step - loss: 0.0010 - val_loss: 0.0078\n",
            "Epoch 5/100\n",
            "12/12 [==============================] - 2s 207ms/step - loss: 0.0010 - val_loss: 0.0071\n",
            "Epoch 6/100\n",
            "12/12 [==============================] - 2s 206ms/step - loss: 9.1991e-04 - val_loss: 0.0061\n",
            "Epoch 7/100\n",
            "12/12 [==============================] - 2s 208ms/step - loss: 8.9849e-04 - val_loss: 0.0058\n",
            "Epoch 8/100\n",
            "12/12 [==============================] - 2s 208ms/step - loss: 8.2609e-04 - val_loss: 0.0056\n",
            "Epoch 9/100\n",
            "12/12 [==============================] - 2s 205ms/step - loss: 8.0909e-04 - val_loss: 0.0051\n",
            "Epoch 10/100\n",
            "12/12 [==============================] - 2s 204ms/step - loss: 7.8204e-04 - val_loss: 0.0044\n",
            "Epoch 11/100\n",
            "12/12 [==============================] - 2s 207ms/step - loss: 7.4829e-04 - val_loss: 0.0041\n",
            "Epoch 12/100\n",
            "12/12 [==============================] - 2s 209ms/step - loss: 6.9566e-04 - val_loss: 0.0033\n",
            "Epoch 13/100\n",
            "12/12 [==============================] - 2s 206ms/step - loss: 6.3884e-04 - val_loss: 0.0026\n",
            "Epoch 14/100\n",
            "12/12 [==============================] - 2s 208ms/step - loss: 5.9834e-04 - val_loss: 0.0023\n",
            "Epoch 15/100\n",
            "12/12 [==============================] - 2s 207ms/step - loss: 5.6768e-04 - val_loss: 0.0020\n",
            "Epoch 16/100\n",
            "12/12 [==============================] - 2s 208ms/step - loss: 5.2363e-04 - val_loss: 0.0018\n",
            "Epoch 17/100\n",
            "12/12 [==============================] - 2s 206ms/step - loss: 5.2828e-04 - val_loss: 0.0019\n",
            "Epoch 18/100\n",
            "12/12 [==============================] - 2s 205ms/step - loss: 5.1181e-04 - val_loss: 0.0017\n",
            "Epoch 19/100\n",
            "12/12 [==============================] - 2s 208ms/step - loss: 5.0267e-04 - val_loss: 0.0016\n",
            "Epoch 20/100\n",
            "12/12 [==============================] - 2s 206ms/step - loss: 4.7406e-04 - val_loss: 0.0015\n",
            "Epoch 21/100\n",
            "12/12 [==============================] - 2s 208ms/step - loss: 4.7641e-04 - val_loss: 0.0015\n",
            "Epoch 22/100\n",
            "12/12 [==============================] - 2s 208ms/step - loss: 4.7586e-04 - val_loss: 0.0014\n",
            "Epoch 23/100\n",
            "12/12 [==============================] - 2s 207ms/step - loss: 5.0980e-04 - val_loss: 0.0012\n",
            "Epoch 24/100\n",
            "12/12 [==============================] - 3s 211ms/step - loss: 5.5536e-04 - val_loss: 0.0011\n",
            "Epoch 25/100\n",
            "12/12 [==============================] - 2s 206ms/step - loss: 4.8771e-04 - val_loss: 0.0011\n",
            "Epoch 26/100\n",
            "12/12 [==============================] - 2s 210ms/step - loss: 5.1059e-04 - val_loss: 0.0011\n",
            "Epoch 27/100\n",
            "12/12 [==============================] - 2s 208ms/step - loss: 4.4491e-04 - val_loss: 0.0011\n",
            "Epoch 28/100\n",
            "12/12 [==============================] - 3s 214ms/step - loss: 4.2569e-04 - val_loss: 0.0011\n",
            "Epoch 29/100\n",
            "12/12 [==============================] - 3s 210ms/step - loss: 3.9054e-04 - val_loss: 0.0011\n",
            "Epoch 30/100\n",
            "12/12 [==============================] - 3s 213ms/step - loss: 3.9269e-04 - val_loss: 0.0013\n",
            "Epoch 31/100\n",
            "12/12 [==============================] - 2s 210ms/step - loss: 4.0437e-04 - val_loss: 0.0014\n",
            "Epoch 32/100\n",
            "12/12 [==============================] - 3s 212ms/step - loss: 3.8442e-04 - val_loss: 0.0014\n",
            "Epoch 33/100\n",
            "12/12 [==============================] - 3s 211ms/step - loss: 3.9701e-04 - val_loss: 0.0015\n",
            "Epoch 34/100\n",
            "12/12 [==============================] - 2s 209ms/step - loss: 4.2731e-04 - val_loss: 0.0012\n",
            "Epoch 35/100\n",
            "12/12 [==============================] - 3s 209ms/step - loss: 3.9095e-04 - val_loss: 0.0015\n",
            "Epoch 36/100\n",
            "12/12 [==============================] - 3s 214ms/step - loss: 3.7342e-04 - val_loss: 0.0015\n",
            "Epoch 37/100\n",
            "12/12 [==============================] - 3s 212ms/step - loss: 3.8289e-04 - val_loss: 0.0013\n",
            "Epoch 38/100\n",
            "12/12 [==============================] - 2s 209ms/step - loss: 4.2874e-04 - val_loss: 0.0015\n",
            "Epoch 39/100\n",
            "12/12 [==============================] - 3s 212ms/step - loss: 4.3650e-04 - val_loss: 0.0012\n",
            "Epoch 40/100\n",
            "12/12 [==============================] - 2s 209ms/step - loss: 4.0438e-04 - val_loss: 0.0014\n",
            "Epoch 41/100\n",
            "12/12 [==============================] - 3s 212ms/step - loss: 5.0896e-04 - val_loss: 0.0018\n",
            "Epoch 42/100\n",
            "12/12 [==============================] - 2s 207ms/step - loss: 4.1712e-04 - val_loss: 0.0017\n",
            "Epoch 43/100\n",
            "12/12 [==============================] - 2s 206ms/step - loss: 3.3433e-04 - val_loss: 0.0018\n",
            "Epoch 44/100\n",
            "12/12 [==============================] - 2s 207ms/step - loss: 3.6154e-04 - val_loss: 0.0015\n",
            "Epoch 45/100\n",
            "12/12 [==============================] - 2s 206ms/step - loss: 3.4759e-04 - val_loss: 0.0016\n",
            "Epoch 46/100\n",
            "12/12 [==============================] - 2s 210ms/step - loss: 3.3584e-04 - val_loss: 0.0017\n",
            "Epoch 47/100\n",
            "12/12 [==============================] - 2s 207ms/step - loss: 3.2392e-04 - val_loss: 0.0019\n",
            "Epoch 48/100\n",
            "12/12 [==============================] - 3s 213ms/step - loss: 3.2626e-04 - val_loss: 0.0020\n",
            "Epoch 49/100\n",
            "12/12 [==============================] - 2s 207ms/step - loss: 3.2944e-04 - val_loss: 0.0016\n",
            "Epoch 50/100\n",
            "12/12 [==============================] - 2s 210ms/step - loss: 3.2505e-04 - val_loss: 0.0020\n",
            "Epoch 51/100\n",
            "12/12 [==============================] - 2s 208ms/step - loss: 3.2242e-04 - val_loss: 0.0017\n",
            "Epoch 52/100\n",
            "12/12 [==============================] - 3s 211ms/step - loss: 3.2843e-04 - val_loss: 0.0019\n",
            "Epoch 53/100\n",
            "12/12 [==============================] - 2s 208ms/step - loss: 3.1772e-04 - val_loss: 0.0018\n",
            "Epoch 54/100\n",
            "12/12 [==============================] - 3s 211ms/step - loss: 3.2139e-04 - val_loss: 0.0016\n",
            "Epoch 55/100\n",
            "12/12 [==============================] - 3s 215ms/step - loss: 3.6669e-04 - val_loss: 0.0017\n",
            "Epoch 56/100\n",
            "12/12 [==============================] - 3s 215ms/step - loss: 3.8825e-04 - val_loss: 0.0015\n",
            "Epoch 57/100\n",
            "12/12 [==============================] - 2s 209ms/step - loss: 3.1538e-04 - val_loss: 0.0019\n",
            "Epoch 58/100\n",
            "12/12 [==============================] - 2s 205ms/step - loss: 3.1833e-04 - val_loss: 0.0017\n",
            "Epoch 59/100\n",
            "12/12 [==============================] - 2s 207ms/step - loss: 3.1213e-04 - val_loss: 0.0014\n",
            "Epoch 60/100\n",
            "12/12 [==============================] - 3s 215ms/step - loss: 3.3095e-04 - val_loss: 0.0018\n",
            "Epoch 61/100\n",
            "12/12 [==============================] - 3s 211ms/step - loss: 3.0398e-04 - val_loss: 0.0019\n",
            "Epoch 62/100\n",
            "12/12 [==============================] - 3s 210ms/step - loss: 3.1375e-04 - val_loss: 0.0016\n",
            "Epoch 63/100\n",
            "12/12 [==============================] - 2s 210ms/step - loss: 3.3019e-04 - val_loss: 0.0014\n",
            "Epoch 64/100\n",
            "12/12 [==============================] - 3s 211ms/step - loss: 3.2962e-04 - val_loss: 0.0013\n",
            "Epoch 65/100\n",
            "12/12 [==============================] - 2s 209ms/step - loss: 3.1647e-04 - val_loss: 0.0017\n",
            "Epoch 66/100\n",
            "12/12 [==============================] - 3s 211ms/step - loss: 4.9063e-04 - val_loss: 0.0015\n",
            "Epoch 67/100\n",
            "12/12 [==============================] - 3s 210ms/step - loss: 3.4755e-04 - val_loss: 0.0014\n",
            "Epoch 68/100\n",
            "12/12 [==============================] - 3s 211ms/step - loss: 3.8774e-04 - val_loss: 0.0015\n",
            "Epoch 69/100\n",
            "12/12 [==============================] - 2s 208ms/step - loss: 3.1218e-04 - val_loss: 0.0012\n",
            "Epoch 70/100\n",
            "12/12 [==============================] - 2s 208ms/step - loss: 3.0308e-04 - val_loss: 0.0011\n",
            "Epoch 71/100\n",
            "12/12 [==============================] - 3s 212ms/step - loss: 2.7978e-04 - val_loss: 0.0013\n",
            "Epoch 72/100\n",
            "12/12 [==============================] - 3s 212ms/step - loss: 3.0025e-04 - val_loss: 0.0014\n",
            "Epoch 73/100\n",
            "12/12 [==============================] - 2s 210ms/step - loss: 2.8147e-04 - val_loss: 0.0013\n",
            "Epoch 74/100\n",
            "12/12 [==============================] - 3s 210ms/step - loss: 3.1555e-04 - val_loss: 0.0012\n",
            "Epoch 75/100\n",
            "12/12 [==============================] - 3s 212ms/step - loss: 3.2184e-04 - val_loss: 0.0011\n",
            "Epoch 76/100\n",
            "12/12 [==============================] - 2s 210ms/step - loss: 2.9290e-04 - val_loss: 0.0013\n",
            "Epoch 77/100\n",
            "12/12 [==============================] - 2s 209ms/step - loss: 3.0031e-04 - val_loss: 0.0011\n",
            "Epoch 78/100\n",
            "12/12 [==============================] - 2s 209ms/step - loss: 2.9984e-04 - val_loss: 9.5680e-04\n",
            "Epoch 79/100\n",
            "12/12 [==============================] - 2s 209ms/step - loss: 2.8826e-04 - val_loss: 0.0011\n",
            "Epoch 80/100\n",
            "12/12 [==============================] - 3s 210ms/step - loss: 2.7642e-04 - val_loss: 0.0011\n",
            "Epoch 81/100\n",
            "12/12 [==============================] - 2s 210ms/step - loss: 3.2527e-04 - val_loss: 9.2495e-04\n",
            "Epoch 82/100\n",
            "12/12 [==============================] - 2s 206ms/step - loss: 3.3788e-04 - val_loss: 9.3048e-04\n",
            "Epoch 83/100\n",
            "12/12 [==============================] - 2s 207ms/step - loss: 2.6597e-04 - val_loss: 9.5233e-04\n",
            "Epoch 84/100\n",
            "12/12 [==============================] - 3s 213ms/step - loss: 2.9375e-04 - val_loss: 0.0010\n",
            "Epoch 85/100\n",
            "12/12 [==============================] - 2s 209ms/step - loss: 3.3855e-04 - val_loss: 7.6610e-04\n",
            "Epoch 86/100\n",
            "12/12 [==============================] - 3s 210ms/step - loss: 3.1067e-04 - val_loss: 7.6195e-04\n",
            "Epoch 87/100\n",
            "12/12 [==============================] - 3s 211ms/step - loss: 2.8292e-04 - val_loss: 8.2946e-04\n",
            "Epoch 88/100\n",
            "12/12 [==============================] - 2s 210ms/step - loss: 3.3191e-04 - val_loss: 7.3599e-04\n",
            "Epoch 89/100\n",
            "12/12 [==============================] - 2s 207ms/step - loss: 3.2184e-04 - val_loss: 7.9098e-04\n",
            "Epoch 90/100\n",
            "12/12 [==============================] - 2s 207ms/step - loss: 2.5698e-04 - val_loss: 8.2052e-04\n",
            "Epoch 91/100\n",
            "12/12 [==============================] - 2s 209ms/step - loss: 2.8852e-04 - val_loss: 7.5002e-04\n",
            "Epoch 92/100\n",
            "12/12 [==============================] - 3s 211ms/step - loss: 2.5378e-04 - val_loss: 7.5063e-04\n",
            "Epoch 93/100\n",
            "12/12 [==============================] - 2s 206ms/step - loss: 2.8486e-04 - val_loss: 7.2295e-04\n",
            "Epoch 94/100\n",
            "12/12 [==============================] - 3s 209ms/step - loss: 2.4650e-04 - val_loss: 6.6161e-04\n",
            "Epoch 95/100\n",
            "12/12 [==============================] - 2s 210ms/step - loss: 2.5067e-04 - val_loss: 8.3613e-04\n",
            "Epoch 96/100\n",
            "12/12 [==============================] - 3s 211ms/step - loss: 2.4169e-04 - val_loss: 6.7837e-04\n",
            "Epoch 97/100\n",
            "12/12 [==============================] - 2s 206ms/step - loss: 2.3152e-04 - val_loss: 6.2929e-04\n",
            "Epoch 98/100\n",
            "12/12 [==============================] - 3s 211ms/step - loss: 2.3198e-04 - val_loss: 6.5981e-04\n",
            "Epoch 99/100\n",
            "12/12 [==============================] - 3s 212ms/step - loss: 2.3017e-04 - val_loss: 6.5163e-04\n",
            "Epoch 100/100\n",
            "12/12 [==============================] - 3s 214ms/step - loss: 2.2764e-04 - val_loss: 6.3627e-04\n"
          ]
        },
        {
          "output_type": "execute_result",
          "data": {
            "text/plain": [
              "<keras.callbacks.History at 0x7f57f8324790>"
            ]
          },
          "metadata": {},
          "execution_count": 28
        }
      ]
    },
    {
      "cell_type": "code",
      "source": [
        "import tensorflow as tf\n"
      ],
      "metadata": {
        "id": "RYs9XuPxkrP1"
      },
      "execution_count": null,
      "outputs": []
    },
    {
      "cell_type": "code",
      "source": [
        "tf.__version__"
      ],
      "metadata": {
        "colab": {
          "base_uri": "https://localhost:8080/",
          "height": 35
        },
        "id": "bVkCNfBnkvg6",
        "outputId": "8a304070-80cd-4069-8e1c-c36417e78db5"
      },
      "execution_count": null,
      "outputs": [
        {
          "output_type": "execute_result",
          "data": {
            "application/vnd.google.colaboratory.intrinsic+json": {
              "type": "string"
            },
            "text/plain": [
              "'2.7.0'"
            ]
          },
          "metadata": {},
          "execution_count": 30
        }
      ]
    },
    {
      "cell_type": "code",
      "source": [
        "# lets do the prediction and check performance metrics\n",
        "train_predict =model.predict(X_train)\n",
        "test_predict =model.predict(X_test)"
      ],
      "metadata": {
        "id": "MegO1LKTk1LP"
      },
      "execution_count": null,
      "outputs": []
    },
    {
      "cell_type": "code",
      "source": [
        "# Transform back to original form\n",
        "train_predict=Scaler.inverse_transform(train_predict)\n",
        "test_predict =Scaler.inverse_transform(test_predict)"
      ],
      "metadata": {
        "id": "fFtov7dTlhLn"
      },
      "execution_count": null,
      "outputs": []
    },
    {
      "cell_type": "code",
      "source": [
        "# CALCULATE rmse PERFORMANCE METRIC\n",
        "import math\n",
        "from sklearn.metrics import mean_squared_error\n",
        "math.sqrt(mean_squared_error(y_train,train_predict))"
      ],
      "metadata": {
        "colab": {
          "base_uri": "https://localhost:8080/"
        },
        "id": "rZMoyJjblht4",
        "outputId": "0f9380c4-ce32-4499-c0e3-df94251eae5c"
      },
      "execution_count": null,
      "outputs": [
        {
          "output_type": "execute_result",
          "data": {
            "text/plain": [
              "203.33511202558066"
            ]
          },
          "metadata": {},
          "execution_count": 33
        }
      ]
    },
    {
      "cell_type": "code",
      "source": [
        "# Test data RMSE\n",
        "math.sqrt(mean_squared_error(ytest,test_predict))"
      ],
      "metadata": {
        "colab": {
          "base_uri": "https://localhost:8080/"
        },
        "id": "N8G3Ei-Qlh3O",
        "outputId": "3781f333-7f67-4b02-ad05-7e602d93f6f4"
      },
      "execution_count": null,
      "outputs": [
        {
          "output_type": "execute_result",
          "data": {
            "text/plain": [
              "138.15623462028879"
            ]
          },
          "metadata": {},
          "execution_count": 34
        }
      ]
    },
    {
      "cell_type": "code",
      "source": [
        "# Plotting\n",
        "# Shift train predictions for plotting\n",
        "look_back=100\n",
        "trainPredictPlot = numpy.empty_like(df1)\n",
        "trainPredictPlot[:, :] = np.nan\n",
        "trainPredictPlot[look_back:len(train_predict)+ look_back, :]= train_predict\n",
        "\n",
        "# shift test predictions for plotting\n",
        "testPredictPlot = numpy.empty_like(df1)\n",
        "testPredictPlot[:, :] = np . nan\n",
        "testPredictPlot[len(train_predict)+(look_back*2)+1:len(df1)-1, :]= test_predict\n",
        "\n",
        "# plot baseline and predictions\n",
        "plt.plot(Scaler.inverse_transform(df1))\n",
        "plt.plot(trainPredictPlot)\n",
        "plt.plot(testPredictPlot)\n",
        "plt.show()"
      ],
      "metadata": {
        "colab": {
          "base_uri": "https://localhost:8080/",
          "height": 265
        },
        "id": "B9ie9k3alh-c",
        "outputId": "1a44efff-9ab4-45e5-f9ae-788b5f81954c"
      },
      "execution_count": null,
      "outputs": [
        {
          "output_type": "display_data",
          "data": {
            "image/png": "[encoded data removed]",
            "text/plain": [
              "<Figure size 432x288 with 1 Axes>"
            ]
          },
          "metadata": {
            "needs_background": "light"
          }
        }
      ]
    },
    {
      "cell_type": "code",
      "source": [
        "len(test_data)"
      ],
      "metadata": {
        "colab": {
          "base_uri": "https://localhost:8080/"
        },
        "id": "ysCRfy_MliFE",
        "outputId": "e0a8a7a7-96bd-4925-9169-5f34fe4c7e44"
      },
      "execution_count": null,
      "outputs": [
        {
          "output_type": "execute_result",
          "data": {
            "text/plain": [
              "441"
            ]
          },
          "metadata": {},
          "execution_count": 37
        }
      ]
    },
    {
      "cell_type": "code",
      "source": [
        "x_input =test_data[341:].reshape(1, -1)\n",
        "x_input.shape"
      ],
      "metadata": {
        "colab": {
          "base_uri": "https://localhost:8080/"
        },
        "id": "ixieJF_RqZE9",
        "outputId": "495f9279-051a-4f65-9236-8353a0f7f3d1"
      },
      "execution_count": null,
      "outputs": [
        {
          "output_type": "execute_result",
          "data": {
            "text/plain": [
              "(1, 100)"
            ]
          },
          "metadata": {},
          "execution_count": 38
        }
      ]
    },
    {
      "cell_type": "code",
      "source": [
        "temp_input =list(x_input)\n",
        "temp_input =temp_input[0].tolist()"
      ],
      "metadata": {
        "id": "CRNzzBrKqZRx"
      },
      "execution_count": null,
      "outputs": []
    },
    {
      "cell_type": "code",
      "source": [
        "temp_input"
      ],
      "metadata": {
        "colab": {
          "base_uri": "https://localhost:8080/"
        },
        "id": "MroVyRxTqZZA",
        "outputId": "c76b7b60-45d0-4898-adf7-6a1822199e2e"
      },
      "execution_count": null,
      "outputs": [
        {
          "output_type": "execute_result",
          "data": {
            "text/plain": [
              "[0.10399499060738887,\n",
              " 0.101941139636819,\n",
              " 0.1045961177207263,\n",
              " 0.11591734502191609,\n",
              " 0.11268628678772696,\n",
              " 0.11438948027551654,\n",
              " 0.11724483406386971,\n",
              " 0.11887288666249218,\n",
              " 0.12485911083281148,\n",
              " 0.12090169067000628,\n",
              " 0.11829680651221036,\n",
              " 0.1055228553537883,\n",
              " 0.10697557921102063,\n",
              " 0.10339386349405133,\n",
              " 0.10567313713212267,\n",
              " 0.10507201001878513,\n",
              " 0.09823418910457105,\n",
              " 0.0904195366311834,\n",
              " 0.0916468378209142,\n",
              " 0.09770820288040072,\n",
              " 0.10016280525986221,\n",
              " 0.10038822792736374,\n",
              " 0.09650594865372569,\n",
              " 0.08783969943644326,\n",
              " 0.09014402003757044,\n",
              " 0.08681277395115838,\n",
              " 0.08969317470256727,\n",
              " 0.08090169067000619,\n",
              " 0.08583594239198494,\n",
              " 0.08806512210394485,\n",
              " 0.09129618033813391,\n",
              " 0.09031934877896053,\n",
              " 0.09009392611145894,\n",
              " 0.0868378209142141,\n",
              " 0.08533500313087033,\n",
              " 0.09247338760175322,\n",
              " 0.09517845961177201,\n",
              " 0.09946149029430179,\n",
              " 0.10499686912961798,\n",
              " 0.10624921728240444,\n",
              " 0.10680025046963049,\n",
              " 0.10482154038822789,\n",
              " 0.10469630557294918,\n",
              " 0.10639949906073881,\n",
              " 0.10522229179711956,\n",
              " 0.11453976205385091,\n",
              " 0.10760175328741389,\n",
              " 0.10549780839073258,\n",
              " 0.10815278647463994,\n",
              " 0.11183469004383217,\n",
              " 0.1105072010018785,\n",
              " 0.11130870381966185,\n",
              " 0.10920475892298054,\n",
              " 0.11013149655604254,\n",
              " 0.10289292423293667,\n",
              " 0.10276768941765807,\n",
              " 0.10807764558547273,\n",
              " 0.10810269254852845,\n",
              " 0.11060738885410137,\n",
              " 0.11684408265497809,\n",
              " 0.12781465247338758,\n",
              " 0.13452723857232307,\n",
              " 0.13570444583594238,\n",
              " 0.13668127739511576,\n",
              " 0.13800876643706944,\n",
              " 0.12515967438948022,\n",
              " 0.1337507827175955,\n",
              " 0.14642454602379462,\n",
              " 0.14509705698184094,\n",
              " 0.14256731371321218,\n",
              " 0.1377582968065122,\n",
              " 0.146474639949906,\n",
              " 0.1611521603005635,\n",
              " 0.17092047589229803,\n",
              " 0.16961803381340007,\n",
              " 0.18186599874765175,\n",
              " 0.17257357545397617,\n",
              " 0.16904195366311836,\n",
              " 0.1814902943018159,\n",
              " 0.1638572323105823,\n",
              " 0.16105197244834057,\n",
              " 0.1575704445835942,\n",
              " 0.1656856606136506,\n",
              " 0.1723231058234188,\n",
              " 0.17392611145898557,\n",
              " 0.18407013149655604,\n",
              " 0.18146524733876013,\n",
              " 0.1816906700062617,\n",
              " 0.1787351283656856,\n",
              " 0.17715716969317463,\n",
              " 0.18827802128991855,\n",
              " 0.182492172824045,\n",
              " 0.1705197244834063,\n",
              " 0.16320601127113332,\n",
              " 0.16363180964308072,\n",
              " 0.1636819035691922,\n",
              " 0.17092047589229803,\n",
              " 0.17204758922980584,\n",
              " 0.1636819035691922,\n",
              " 0.1658860363180964]"
            ]
          },
          "metadata": {},
          "execution_count": 40
        }
      ]
    },
    {
      "cell_type": "code",
      "source": [
        "# demonstrate prediction for next 10 days\n",
        "from numpy import array\n",
        "\n",
        "lst_output=[]\n",
        "n_steps=100\n",
        "i=0\n",
        "while(i<30):\n",
        "\n",
        "  if(len(temp_input)>100):\n",
        "    x_input=np.array(temp_input[1:])        # print (temp_input)\n",
        "    print(\"{} day input{}\".format(i,x_input))\n",
        "    x_input=x_input.reshape(1, -1)\n",
        "    x_input = x_input.reshape((1, n_steps, 1))    # print(x_input)\n",
        "    yhat = model.predict(x_input, verbose=0)\n",
        "    print(\"{} day output{}\".format(i, yhat))\n",
        "    temp_input.extend(yhat[0].tolist())\n",
        "    temp_input=temp_input[1:]         # print(temp_input)\n",
        "    lst_output.extend(yhat.tolist())\n",
        "    i=i+1\n",
        "\n",
        "  else:\n",
        "    x_input = x_input.reshape((1, n_steps, 1))\n",
        "    yhat = model.predict(x_input, verbose=0)\n",
        "    print(yhat[0])\n",
        "    temp_input.extend(yhat[0].tolist())\n",
        "    print(len(temp_input))\n",
        "    lst_output.extend(yhat.tolist())\n",
        "    i=i+1\n",
        "\n",
        "\n",
        "print(lst_output)\n"
      ],
      "metadata": {
        "colab": {
          "base_uri": "https://localhost:8080/"
        },
        "id": "g4Z6_gnaqZdU",
        "outputId": "34a6d1b0-f917-48e1-cb7f-847333b44d09"
      },
      "execution_count": null,
      "outputs": [
        {
          "output_type": "stream",
          "name": "stdout",
          "text": [
            "0 day input[0.09129618 0.09031935 0.09009393 0.08683782 0.085335   0.09247339\n",
            " 0.09517846 0.09946149 0.10499687 0.10624922 0.10680025 0.10482154\n",
            " 0.10469631 0.1063995  0.10522229 0.11453976 0.10760175 0.10549781\n",
            " 0.10815279 0.11183469 0.1105072  0.1113087  0.10920476 0.1101315\n",
            " 0.10289292 0.10276769 0.10807765 0.10810269 0.11060739 0.11684408\n",
            " 0.12781465 0.13452724 0.13570445 0.13668128 0.13800877 0.12515967\n",
            " 0.13375078 0.14642455 0.14509706 0.14256731 0.1377583  0.14647464\n",
            " 0.16115216 0.17092048 0.16961803 0.181866   0.17257358 0.16904195\n",
            " 0.18149029 0.16385723 0.16105197 0.15757044 0.16568566 0.17232311\n",
            " 0.17392611 0.18407013 0.18146525 0.18169067 0.17873513 0.17715717\n",
            " 0.18827802 0.18249217 0.17051972 0.16320601 0.16363181 0.1636819\n",
            " 0.17092048 0.17204759 0.1636819  0.16588604 0.16385157 0.16298266\n",
            " 0.16216199 0.16137151 0.16061114 0.15988532 0.15919812 0.15855183\n",
            " 0.15794706 0.15738329 0.15685916 0.15637289 0.15592235 0.15550533\n",
            " 0.15511933 0.15476194 0.15443069 0.15412299 0.15383644 0.15356863\n",
            " 0.15331723 0.15307994 0.15285483 0.15263978 0.15243308 0.15223302\n",
            " 0.15203807 0.15184692 0.15165831 0.15147115]\n",
            "0 day output[[0.15128455]]\n",
            "1 day input[0.09031935 0.09009393 0.08683782 0.085335   0.09247339 0.09517846\n",
            " 0.09946149 0.10499687 0.10624922 0.10680025 0.10482154 0.10469631\n",
            " 0.1063995  0.10522229 0.11453976 0.10760175 0.10549781 0.10815279\n",
            " 0.11183469 0.1105072  0.1113087  0.10920476 0.1101315  0.10289292\n",
            " 0.10276769 0.10807765 0.10810269 0.11060739 0.11684408 0.12781465\n",
            " 0.13452724 0.13570445 0.13668128 0.13800877 0.12515967 0.13375078\n",
            " 0.14642455 0.14509706 0.14256731 0.1377583  0.14647464 0.16115216\n",
            " 0.17092048 0.16961803 0.181866   0.17257358 0.16904195 0.18149029\n",
            " 0.16385723 0.16105197 0.15757044 0.16568566 0.17232311 0.17392611\n",
            " 0.18407013 0.18146525 0.18169067 0.17873513 0.17715717 0.18827802\n",
            " 0.18249217 0.17051972 0.16320601 0.16363181 0.1636819  0.17092048\n",
            " 0.17204759 0.1636819  0.16588604 0.16385157 0.16298266 0.16216199\n",
            " 0.16137151 0.16061114 0.15988532 0.15919812 0.15855183 0.15794706\n",
            " 0.15738329 0.15685916 0.15637289 0.15592235 0.15550533 0.15511933\n",
            " 0.15476194 0.15443069 0.15412299 0.15383644 0.15356863 0.15331723\n",
            " 0.15307994 0.15285483 0.15263978 0.15243308 0.15223302 0.15203807\n",
            " 0.15184692 0.15165831 0.15147115 0.15128455]\n",
            "1 day output[[0.15109771]]\n",
            "2 day input[0.09009393 0.08683782 0.085335   0.09247339 0.09517846 0.09946149\n",
            " 0.10499687 0.10624922 0.10680025 0.10482154 0.10469631 0.1063995\n",
            " 0.10522229 0.11453976 0.10760175 0.10549781 0.10815279 0.11183469\n",
            " 0.1105072  0.1113087  0.10920476 0.1101315  0.10289292 0.10276769\n",
            " 0.10807765 0.10810269 0.11060739 0.11684408 0.12781465 0.13452724\n",
            " 0.13570445 0.13668128 0.13800877 0.12515967 0.13375078 0.14642455\n",
            " 0.14509706 0.14256731 0.1377583  0.14647464 0.16115216 0.17092048\n",
            " 0.16961803 0.181866   0.17257358 0.16904195 0.18149029 0.16385723\n",
            " 0.16105197 0.15757044 0.16568566 0.17232311 0.17392611 0.18407013\n",
            " 0.18146525 0.18169067 0.17873513 0.17715717 0.18827802 0.18249217\n",
            " 0.17051972 0.16320601 0.16363181 0.1636819  0.17092048 0.17204759\n",
            " 0.1636819  0.16588604 0.16385157 0.16298266 0.16216199 0.16137151\n",
            " 0.16061114 0.15988532 0.15919812 0.15855183 0.15794706 0.15738329\n",
            " 0.15685916 0.15637289 0.15592235 0.15550533 0.15511933 0.15476194\n",
            " 0.15443069 0.15412299 0.15383644 0.15356863 0.15331723 0.15307994\n",
            " 0.15285483 0.15263978 0.15243308 0.15223302 0.15203807 0.15184692\n",
            " 0.15165831 0.15147115 0.15128455 0.15109771]\n",
            "2 day output[[0.15091]]\n",
            "3 day input[0.08683782 0.085335   0.09247339 0.09517846 0.09946149 0.10499687\n",
            " 0.10624922 0.10680025 0.10482154 0.10469631 0.1063995  0.10522229\n",
            " 0.11453976 0.10760175 0.10549781 0.10815279 0.11183469 0.1105072\n",
            " 0.1113087  0.10920476 0.1101315  0.10289292 0.10276769 0.10807765\n",
            " 0.10810269 0.11060739 0.11684408 0.12781465 0.13452724 0.13570445\n",
            " 0.13668128 0.13800877 0.12515967 0.13375078 0.14642455 0.14509706\n",
            " 0.14256731 0.1377583  0.14647464 0.16115216 0.17092048 0.16961803\n",
            " 0.181866   0.17257358 0.16904195 0.18149029 0.16385723 0.16105197\n",
            " 0.15757044 0.16568566 0.17232311 0.17392611 0.18407013 0.18146525\n",
            " 0.18169067 0.17873513 0.17715717 0.18827802 0.18249217 0.17051972\n",
            " 0.16320601 0.16363181 0.1636819  0.17092048 0.17204759 0.1636819\n",
            " 0.16588604 0.16385157 0.16298266 0.16216199 0.16137151 0.16061114\n",
            " 0.15988532 0.15919812 0.15855183 0.15794706 0.15738329 0.15685916\n",
            " 0.15637289 0.15592235 0.15550533 0.15511933 0.15476194 0.15443069\n",
            " 0.15412299 0.15383644 0.15356863 0.15331723 0.15307994 0.15285483\n",
            " 0.15263978 0.15243308 0.15223302 0.15203807 0.15184692 0.15165831\n",
            " 0.15147115 0.15128455 0.15109771 0.15091   ]\n",
            "3 day output[[0.15072082]]\n",
            "4 day input[0.085335   0.09247339 0.09517846 0.09946149 0.10499687 0.10624922\n",
            " 0.10680025 0.10482154 0.10469631 0.1063995  0.10522229 0.11453976\n",
            " 0.10760175 0.10549781 0.10815279 0.11183469 0.1105072  0.1113087\n",
            " 0.10920476 0.1101315  0.10289292 0.10276769 0.10807765 0.10810269\n",
            " 0.11060739 0.11684408 0.12781465 0.13452724 0.13570445 0.13668128\n",
            " 0.13800877 0.12515967 0.13375078 0.14642455 0.14509706 0.14256731\n",
            " 0.1377583  0.14647464 0.16115216 0.17092048 0.16961803 0.181866\n",
            " 0.17257358 0.16904195 0.18149029 0.16385723 0.16105197 0.15757044\n",
            " 0.16568566 0.17232311 0.17392611 0.18407013 0.18146525 0.18169067\n",
            " 0.17873513 0.17715717 0.18827802 0.18249217 0.17051972 0.16320601\n",
            " 0.16363181 0.1636819  0.17092048 0.17204759 0.1636819  0.16588604\n",
            " 0.16385157 0.16298266 0.16216199 0.16137151 0.16061114 0.15988532\n",
            " 0.15919812 0.15855183 0.15794706 0.15738329 0.15685916 0.15637289\n",
            " 0.15592235 0.15550533 0.15511933 0.15476194 0.15443069 0.15412299\n",
            " 0.15383644 0.15356863 0.15331723 0.15307994 0.15285483 0.15263978\n",
            " 0.15243308 0.15223302 0.15203807 0.15184692 0.15165831 0.15147115\n",
            " 0.15128455 0.15109771 0.15091    0.15072082]\n",
            "4 day output[[0.15052976]]\n",
            "5 day input[0.09247339 0.09517846 0.09946149 0.10499687 0.10624922 0.10680025\n",
            " 0.10482154 0.10469631 0.1063995  0.10522229 0.11453976 0.10760175\n",
            " 0.10549781 0.10815279 0.11183469 0.1105072  0.1113087  0.10920476\n",
            " 0.1101315  0.10289292 0.10276769 0.10807765 0.10810269 0.11060739\n",
            " 0.11684408 0.12781465 0.13452724 0.13570445 0.13668128 0.13800877\n",
            " 0.12515967 0.13375078 0.14642455 0.14509706 0.14256731 0.1377583\n",
            " 0.14647464 0.16115216 0.17092048 0.16961803 0.181866   0.17257358\n",
            " 0.16904195 0.18149029 0.16385723 0.16105197 0.15757044 0.16568566\n",
            " 0.17232311 0.17392611 0.18407013 0.18146525 0.18169067 0.17873513\n",
            " 0.17715717 0.18827802 0.18249217 0.17051972 0.16320601 0.16363181\n",
            " 0.1636819  0.17092048 0.17204759 0.1636819  0.16588604 0.16385157\n",
            " 0.16298266 0.16216199 0.16137151 0.16061114 0.15988532 0.15919812\n",
            " 0.15855183 0.15794706 0.15738329 0.15685916 0.15637289 0.15592235\n",
            " 0.15550533 0.15511933 0.15476194 0.15443069 0.15412299 0.15383644\n",
            " 0.15356863 0.15331723 0.15307994 0.15285483 0.15263978 0.15243308\n",
            " 0.15223302 0.15203807 0.15184692 0.15165831 0.15147115 0.15128455\n",
            " 0.15109771 0.15091    0.15072082 0.15052976]\n",
            "5 day output[[0.15033652]]\n",
            "6 day input[0.09517846 0.09946149 0.10499687 0.10624922 0.10680025 0.10482154\n",
            " 0.10469631 0.1063995  0.10522229 0.11453976 0.10760175 0.10549781\n",
            " 0.10815279 0.11183469 0.1105072  0.1113087  0.10920476 0.1101315\n",
            " 0.10289292 0.10276769 0.10807765 0.10810269 0.11060739 0.11684408\n",
            " 0.12781465 0.13452724 0.13570445 0.13668128 0.13800877 0.12515967\n",
            " 0.13375078 0.14642455 0.14509706 0.14256731 0.1377583  0.14647464\n",
            " 0.16115216 0.17092048 0.16961803 0.181866   0.17257358 0.16904195\n",
            " 0.18149029 0.16385723 0.16105197 0.15757044 0.16568566 0.17232311\n",
            " 0.17392611 0.18407013 0.18146525 0.18169067 0.17873513 0.17715717\n",
            " 0.18827802 0.18249217 0.17051972 0.16320601 0.16363181 0.1636819\n",
            " 0.17092048 0.17204759 0.1636819  0.16588604 0.16385157 0.16298266\n",
            " 0.16216199 0.16137151 0.16061114 0.15988532 0.15919812 0.15855183\n",
            " 0.15794706 0.15738329 0.15685916 0.15637289 0.15592235 0.15550533\n",
            " 0.15511933 0.15476194 0.15443069 0.15412299 0.15383644 0.15356863\n",
            " 0.15331723 0.15307994 0.15285483 0.15263978 0.15243308 0.15223302\n",
            " 0.15203807 0.15184692 0.15165831 0.15147115 0.15128455 0.15109771\n",
            " 0.15091    0.15072082 0.15052976 0.15033652]\n",
            "6 day output[[0.15014084]]\n",
            "7 day input[0.09946149 0.10499687 0.10624922 0.10680025 0.10482154 0.10469631\n",
            " 0.1063995  0.10522229 0.11453976 0.10760175 0.10549781 0.10815279\n",
            " 0.11183469 0.1105072  0.1113087  0.10920476 0.1101315  0.10289292\n",
            " 0.10276769 0.10807765 0.10810269 0.11060739 0.11684408 0.12781465\n",
            " 0.13452724 0.13570445 0.13668128 0.13800877 0.12515967 0.13375078\n",
            " 0.14642455 0.14509706 0.14256731 0.1377583  0.14647464 0.16115216\n",
            " 0.17092048 0.16961803 0.181866   0.17257358 0.16904195 0.18149029\n",
            " 0.16385723 0.16105197 0.15757044 0.16568566 0.17232311 0.17392611\n",
            " 0.18407013 0.18146525 0.18169067 0.17873513 0.17715717 0.18827802\n",
            " 0.18249217 0.17051972 0.16320601 0.16363181 0.1636819  0.17092048\n",
            " 0.17204759 0.1636819  0.16588604 0.16385157 0.16298266 0.16216199\n",
            " 0.16137151 0.16061114 0.15988532 0.15919812 0.15855183 0.15794706\n",
            " 0.15738329 0.15685916 0.15637289 0.15592235 0.15550533 0.15511933\n",
            " 0.15476194 0.15443069 0.15412299 0.15383644 0.15356863 0.15331723\n",
            " 0.15307994 0.15285483 0.15263978 0.15243308 0.15223302 0.15203807\n",
            " 0.15184692 0.15165831 0.15147115 0.15128455 0.15109771 0.15091\n",
            " 0.15072082 0.15052976 0.15033652 0.15014084]\n",
            "7 day output[[0.14994258]]\n",
            "8 day input[0.10499687 0.10624922 0.10680025 0.10482154 0.10469631 0.1063995\n",
            " 0.10522229 0.11453976 0.10760175 0.10549781 0.10815279 0.11183469\n",
            " 0.1105072  0.1113087  0.10920476 0.1101315  0.10289292 0.10276769\n",
            " 0.10807765 0.10810269 0.11060739 0.11684408 0.12781465 0.13452724\n",
            " 0.13570445 0.13668128 0.13800877 0.12515967 0.13375078 0.14642455\n",
            " 0.14509706 0.14256731 0.1377583  0.14647464 0.16115216 0.17092048\n",
            " 0.16961803 0.181866   0.17257358 0.16904195 0.18149029 0.16385723\n",
            " 0.16105197 0.15757044 0.16568566 0.17232311 0.17392611 0.18407013\n",
            " 0.18146525 0.18169067 0.17873513 0.17715717 0.18827802 0.18249217\n",
            " 0.17051972 0.16320601 0.16363181 0.1636819  0.17092048 0.17204759\n",
            " 0.1636819  0.16588604 0.16385157 0.16298266 0.16216199 0.16137151\n",
            " 0.16061114 0.15988532 0.15919812 0.15855183 0.15794706 0.15738329\n",
            " 0.15685916 0.15637289 0.15592235 0.15550533 0.15511933 0.15476194\n",
            " 0.15443069 0.15412299 0.15383644 0.15356863 0.15331723 0.15307994\n",
            " 0.15285483 0.15263978 0.15243308 0.15223302 0.15203807 0.15184692\n",
            " 0.15165831 0.15147115 0.15128455 0.15109771 0.15091    0.15072082\n",
            " 0.15052976 0.15033652 0.15014084 0.14994258]\n",
            "8 day output[[0.14974162]]\n",
            "9 day input[0.10624922 0.10680025 0.10482154 0.10469631 0.1063995  0.10522229\n",
            " 0.11453976 0.10760175 0.10549781 0.10815279 0.11183469 0.1105072\n",
            " 0.1113087  0.10920476 0.1101315  0.10289292 0.10276769 0.10807765\n",
            " 0.10810269 0.11060739 0.11684408 0.12781465 0.13452724 0.13570445\n",
            " 0.13668128 0.13800877 0.12515967 0.13375078 0.14642455 0.14509706\n",
            " 0.14256731 0.1377583  0.14647464 0.16115216 0.17092048 0.16961803\n",
            " 0.181866   0.17257358 0.16904195 0.18149029 0.16385723 0.16105197\n",
            " 0.15757044 0.16568566 0.17232311 0.17392611 0.18407013 0.18146525\n",
            " 0.18169067 0.17873513 0.17715717 0.18827802 0.18249217 0.17051972\n",
            " 0.16320601 0.16363181 0.1636819  0.17092048 0.17204759 0.1636819\n",
            " 0.16588604 0.16385157 0.16298266 0.16216199 0.16137151 0.16061114\n",
            " 0.15988532 0.15919812 0.15855183 0.15794706 0.15738329 0.15685916\n",
            " 0.15637289 0.15592235 0.15550533 0.15511933 0.15476194 0.15443069\n",
            " 0.15412299 0.15383644 0.15356863 0.15331723 0.15307994 0.15285483\n",
            " 0.15263978 0.15243308 0.15223302 0.15203807 0.15184692 0.15165831\n",
            " 0.15147115 0.15128455 0.15109771 0.15091    0.15072082 0.15052976\n",
            " 0.15033652 0.15014084 0.14994258 0.14974162]\n",
            "9 day output[[0.14953801]]\n",
            "10 day input[0.10680025 0.10482154 0.10469631 0.1063995  0.10522229 0.11453976\n",
            " 0.10760175 0.10549781 0.10815279 0.11183469 0.1105072  0.1113087\n",
            " 0.10920476 0.1101315  0.10289292 0.10276769 0.10807765 0.10810269\n",
            " 0.11060739 0.11684408 0.12781465 0.13452724 0.13570445 0.13668128\n",
            " 0.13800877 0.12515967 0.13375078 0.14642455 0.14509706 0.14256731\n",
            " 0.1377583  0.14647464 0.16115216 0.17092048 0.16961803 0.181866\n",
            " 0.17257358 0.16904195 0.18149029 0.16385723 0.16105197 0.15757044\n",
            " 0.16568566 0.17232311 0.17392611 0.18407013 0.18146525 0.18169067\n",
            " 0.17873513 0.17715717 0.18827802 0.18249217 0.17051972 0.16320601\n",
            " 0.16363181 0.1636819  0.17092048 0.17204759 0.1636819  0.16588604\n",
            " 0.16385157 0.16298266 0.16216199 0.16137151 0.16061114 0.15988532\n",
            " 0.15919812 0.15855183 0.15794706 0.15738329 0.15685916 0.15637289\n",
            " 0.15592235 0.15550533 0.15511933 0.15476194 0.15443069 0.15412299\n",
            " 0.15383644 0.15356863 0.15331723 0.15307994 0.15285483 0.15263978\n",
            " 0.15243308 0.15223302 0.15203807 0.15184692 0.15165831 0.15147115\n",
            " 0.15128455 0.15109771 0.15091    0.15072082 0.15052976 0.15033652\n",
            " 0.15014084 0.14994258 0.14974162 0.14953801]\n",
            "10 day output[[0.14933178]]\n",
            "11 day input[0.10482154 0.10469631 0.1063995  0.10522229 0.11453976 0.10760175\n",
            " 0.10549781 0.10815279 0.11183469 0.1105072  0.1113087  0.10920476\n",
            " 0.1101315  0.10289292 0.10276769 0.10807765 0.10810269 0.11060739\n",
            " 0.11684408 0.12781465 0.13452724 0.13570445 0.13668128 0.13800877\n",
            " 0.12515967 0.13375078 0.14642455 0.14509706 0.14256731 0.1377583\n",
            " 0.14647464 0.16115216 0.17092048 0.16961803 0.181866   0.17257358\n",
            " 0.16904195 0.18149029 0.16385723 0.16105197 0.15757044 0.16568566\n",
            " 0.17232311 0.17392611 0.18407013 0.18146525 0.18169067 0.17873513\n",
            " 0.17715717 0.18827802 0.18249217 0.17051972 0.16320601 0.16363181\n",
            " 0.1636819  0.17092048 0.17204759 0.1636819  0.16588604 0.16385157\n",
            " 0.16298266 0.16216199 0.16137151 0.16061114 0.15988532 0.15919812\n",
            " 0.15855183 0.15794706 0.15738329 0.15685916 0.15637289 0.15592235\n",
            " 0.15550533 0.15511933 0.15476194 0.15443069 0.15412299 0.15383644\n",
            " 0.15356863 0.15331723 0.15307994 0.15285483 0.15263978 0.15243308\n",
            " 0.15223302 0.15203807 0.15184692 0.15165831 0.15147115 0.15128455\n",
            " 0.15109771 0.15091    0.15072082 0.15052976 0.15033652 0.15014084\n",
            " 0.14994258 0.14974162 0.14953801 0.14933178]\n",
            "11 day output[[0.14912306]]\n",
            "12 day input[0.10469631 0.1063995  0.10522229 0.11453976 0.10760175 0.10549781\n",
            " 0.10815279 0.11183469 0.1105072  0.1113087  0.10920476 0.1101315\n",
            " 0.10289292 0.10276769 0.10807765 0.10810269 0.11060739 0.11684408\n",
            " 0.12781465 0.13452724 0.13570445 0.13668128 0.13800877 0.12515967\n",
            " 0.13375078 0.14642455 0.14509706 0.14256731 0.1377583  0.14647464\n",
            " 0.16115216 0.17092048 0.16961803 0.181866   0.17257358 0.16904195\n",
            " 0.18149029 0.16385723 0.16105197 0.15757044 0.16568566 0.17232311\n",
            " 0.17392611 0.18407013 0.18146525 0.18169067 0.17873513 0.17715717\n",
            " 0.18827802 0.18249217 0.17051972 0.16320601 0.16363181 0.1636819\n",
            " 0.17092048 0.17204759 0.1636819  0.16588604 0.16385157 0.16298266\n",
            " 0.16216199 0.16137151 0.16061114 0.15988532 0.15919812 0.15855183\n",
            " 0.15794706 0.15738329 0.15685916 0.15637289 0.15592235 0.15550533\n",
            " 0.15511933 0.15476194 0.15443069 0.15412299 0.15383644 0.15356863\n",
            " 0.15331723 0.15307994 0.15285483 0.15263978 0.15243308 0.15223302\n",
            " 0.15203807 0.15184692 0.15165831 0.15147115 0.15128455 0.15109771\n",
            " 0.15091    0.15072082 0.15052976 0.15033652 0.15014084 0.14994258\n",
            " 0.14974162 0.14953801 0.14933178 0.14912306]\n",
            "12 day output[[0.14891195]]\n",
            "13 day input[0.1063995  0.10522229 0.11453976 0.10760175 0.10549781 0.10815279\n",
            " 0.11183469 0.1105072  0.1113087  0.10920476 0.1101315  0.10289292\n",
            " 0.10276769 0.10807765 0.10810269 0.11060739 0.11684408 0.12781465\n",
            " 0.13452724 0.13570445 0.13668128 0.13800877 0.12515967 0.13375078\n",
            " 0.14642455 0.14509706 0.14256731 0.1377583  0.14647464 0.16115216\n",
            " 0.17092048 0.16961803 0.181866   0.17257358 0.16904195 0.18149029\n",
            " 0.16385723 0.16105197 0.15757044 0.16568566 0.17232311 0.17392611\n",
            " 0.18407013 0.18146525 0.18169067 0.17873513 0.17715717 0.18827802\n",
            " 0.18249217 0.17051972 0.16320601 0.16363181 0.1636819  0.17092048\n",
            " 0.17204759 0.1636819  0.16588604 0.16385157 0.16298266 0.16216199\n",
            " 0.16137151 0.16061114 0.15988532 0.15919812 0.15855183 0.15794706\n",
            " 0.15738329 0.15685916 0.15637289 0.15592235 0.15550533 0.15511933\n",
            " 0.15476194 0.15443069 0.15412299 0.15383644 0.15356863 0.15331723\n",
            " 0.15307994 0.15285483 0.15263978 0.15243308 0.15223302 0.15203807\n",
            " 0.15184692 0.15165831 0.15147115 0.15128455 0.15109771 0.15091\n",
            " 0.15072082 0.15052976 0.15033652 0.15014084 0.14994258 0.14974162\n",
            " 0.14953801 0.14933178 0.14912306 0.14891195]\n",
            "13 day output[[0.14869863]]\n",
            "14 day input[0.10522229 0.11453976 0.10760175 0.10549781 0.10815279 0.11183469\n",
            " 0.1105072  0.1113087  0.10920476 0.1101315  0.10289292 0.10276769\n",
            " 0.10807765 0.10810269 0.11060739 0.11684408 0.12781465 0.13452724\n",
            " 0.13570445 0.13668128 0.13800877 0.12515967 0.13375078 0.14642455\n",
            " 0.14509706 0.14256731 0.1377583  0.14647464 0.16115216 0.17092048\n",
            " 0.16961803 0.181866   0.17257358 0.16904195 0.18149029 0.16385723\n",
            " 0.16105197 0.15757044 0.16568566 0.17232311 0.17392611 0.18407013\n",
            " 0.18146525 0.18169067 0.17873513 0.17715717 0.18827802 0.18249217\n",
            " 0.17051972 0.16320601 0.16363181 0.1636819  0.17092048 0.17204759\n",
            " 0.1636819  0.16588604 0.16385157 0.16298266 0.16216199 0.16137151\n",
            " 0.16061114 0.15988532 0.15919812 0.15855183 0.15794706 0.15738329\n",
            " 0.15685916 0.15637289 0.15592235 0.15550533 0.15511933 0.15476194\n",
            " 0.15443069 0.15412299 0.15383644 0.15356863 0.15331723 0.15307994\n",
            " 0.15285483 0.15263978 0.15243308 0.15223302 0.15203807 0.15184692\n",
            " 0.15165831 0.15147115 0.15128455 0.15109771 0.15091    0.15072082\n",
            " 0.15052976 0.15033652 0.15014084 0.14994258 0.14974162 0.14953801\n",
            " 0.14933178 0.14912306 0.14891195 0.14869863]\n",
            "14 day output[[0.14848328]]\n",
            "15 day input[0.11453976 0.10760175 0.10549781 0.10815279 0.11183469 0.1105072\n",
            " 0.1113087  0.10920476 0.1101315  0.10289292 0.10276769 0.10807765\n",
            " 0.10810269 0.11060739 0.11684408 0.12781465 0.13452724 0.13570445\n",
            " 0.13668128 0.13800877 0.12515967 0.13375078 0.14642455 0.14509706\n",
            " 0.14256731 0.1377583  0.14647464 0.16115216 0.17092048 0.16961803\n",
            " 0.181866   0.17257358 0.16904195 0.18149029 0.16385723 0.16105197\n",
            " 0.15757044 0.16568566 0.17232311 0.17392611 0.18407013 0.18146525\n",
            " 0.18169067 0.17873513 0.17715717 0.18827802 0.18249217 0.17051972\n",
            " 0.16320601 0.16363181 0.1636819  0.17092048 0.17204759 0.1636819\n",
            " 0.16588604 0.16385157 0.16298266 0.16216199 0.16137151 0.16061114\n",
            " 0.15988532 0.15919812 0.15855183 0.15794706 0.15738329 0.15685916\n",
            " 0.15637289 0.15592235 0.15550533 0.15511933 0.15476194 0.15443069\n",
            " 0.15412299 0.15383644 0.15356863 0.15331723 0.15307994 0.15285483\n",
            " 0.15263978 0.15243308 0.15223302 0.15203807 0.15184692 0.15165831\n",
            " 0.15147115 0.15128455 0.15109771 0.15091    0.15072082 0.15052976\n",
            " 0.15033652 0.15014084 0.14994258 0.14974162 0.14953801 0.14933178\n",
            " 0.14912306 0.14891195 0.14869863 0.14848328]\n",
            "15 day output[[0.14826618]]\n",
            "16 day input[0.10760175 0.10549781 0.10815279 0.11183469 0.1105072  0.1113087\n",
            " 0.10920476 0.1101315  0.10289292 0.10276769 0.10807765 0.10810269\n",
            " 0.11060739 0.11684408 0.12781465 0.13452724 0.13570445 0.13668128\n",
            " 0.13800877 0.12515967 0.13375078 0.14642455 0.14509706 0.14256731\n",
            " 0.1377583  0.14647464 0.16115216 0.17092048 0.16961803 0.181866\n",
            " 0.17257358 0.16904195 0.18149029 0.16385723 0.16105197 0.15757044\n",
            " 0.16568566 0.17232311 0.17392611 0.18407013 0.18146525 0.18169067\n",
            " 0.17873513 0.17715717 0.18827802 0.18249217 0.17051972 0.16320601\n",
            " 0.16363181 0.1636819  0.17092048 0.17204759 0.1636819  0.16588604\n",
            " 0.16385157 0.16298266 0.16216199 0.16137151 0.16061114 0.15988532\n",
            " 0.15919812 0.15855183 0.15794706 0.15738329 0.15685916 0.15637289\n",
            " 0.15592235 0.15550533 0.15511933 0.15476194 0.15443069 0.15412299\n",
            " 0.15383644 0.15356863 0.15331723 0.15307994 0.15285483 0.15263978\n",
            " 0.15243308 0.15223302 0.15203807 0.15184692 0.15165831 0.15147115\n",
            " 0.15128455 0.15109771 0.15091    0.15072082 0.15052976 0.15033652\n",
            " 0.15014084 0.14994258 0.14974162 0.14953801 0.14933178 0.14912306\n",
            " 0.14891195 0.14869863 0.14848328 0.14826618]\n",
            "16 day output[[0.14804752]]\n",
            "17 day input[0.10549781 0.10815279 0.11183469 0.1105072  0.1113087  0.10920476\n",
            " 0.1101315  0.10289292 0.10276769 0.10807765 0.10810269 0.11060739\n",
            " 0.11684408 0.12781465 0.13452724 0.13570445 0.13668128 0.13800877\n",
            " 0.12515967 0.13375078 0.14642455 0.14509706 0.14256731 0.1377583\n",
            " 0.14647464 0.16115216 0.17092048 0.16961803 0.181866   0.17257358\n",
            " 0.16904195 0.18149029 0.16385723 0.16105197 0.15757044 0.16568566\n",
            " 0.17232311 0.17392611 0.18407013 0.18146525 0.18169067 0.17873513\n",
            " 0.17715717 0.18827802 0.18249217 0.17051972 0.16320601 0.16363181\n",
            " 0.1636819  0.17092048 0.17204759 0.1636819  0.16588604 0.16385157\n",
            " 0.16298266 0.16216199 0.16137151 0.16061114 0.15988532 0.15919812\n",
            " 0.15855183 0.15794706 0.15738329 0.15685916 0.15637289 0.15592235\n",
            " 0.15550533 0.15511933 0.15476194 0.15443069 0.15412299 0.15383644\n",
            " 0.15356863 0.15331723 0.15307994 0.15285483 0.15263978 0.15243308\n",
            " 0.15223302 0.15203807 0.15184692 0.15165831 0.15147115 0.15128455\n",
            " 0.15109771 0.15091    0.15072082 0.15052976 0.15033652 0.15014084\n",
            " 0.14994258 0.14974162 0.14953801 0.14933178 0.14912306 0.14891195\n",
            " 0.14869863 0.14848328 0.14826618 0.14804752]\n",
            "17 day output[[0.14782758]]\n",
            "18 day input[0.10815279 0.11183469 0.1105072  0.1113087  0.10920476 0.1101315\n",
            " 0.10289292 0.10276769 0.10807765 0.10810269 0.11060739 0.11684408\n",
            " 0.12781465 0.13452724 0.13570445 0.13668128 0.13800877 0.12515967\n",
            " 0.13375078 0.14642455 0.14509706 0.14256731 0.1377583  0.14647464\n",
            " 0.16115216 0.17092048 0.16961803 0.181866   0.17257358 0.16904195\n",
            " 0.18149029 0.16385723 0.16105197 0.15757044 0.16568566 0.17232311\n",
            " 0.17392611 0.18407013 0.18146525 0.18169067 0.17873513 0.17715717\n",
            " 0.18827802 0.18249217 0.17051972 0.16320601 0.16363181 0.1636819\n",
            " 0.17092048 0.17204759 0.1636819  0.16588604 0.16385157 0.16298266\n",
            " 0.16216199 0.16137151 0.16061114 0.15988532 0.15919812 0.15855183\n",
            " 0.15794706 0.15738329 0.15685916 0.15637289 0.15592235 0.15550533\n",
            " 0.15511933 0.15476194 0.15443069 0.15412299 0.15383644 0.15356863\n",
            " 0.15331723 0.15307994 0.15285483 0.15263978 0.15243308 0.15223302\n",
            " 0.15203807 0.15184692 0.15165831 0.15147115 0.15128455 0.15109771\n",
            " 0.15091    0.15072082 0.15052976 0.15033652 0.15014084 0.14994258\n",
            " 0.14974162 0.14953801 0.14933178 0.14912306 0.14891195 0.14869863\n",
            " 0.14848328 0.14826618 0.14804752 0.14782758]\n",
            "18 day output[[0.14760657]]\n",
            "19 day input[0.11183469 0.1105072  0.1113087  0.10920476 0.1101315  0.10289292\n",
            " 0.10276769 0.10807765 0.10810269 0.11060739 0.11684408 0.12781465\n",
            " 0.13452724 0.13570445 0.13668128 0.13800877 0.12515967 0.13375078\n",
            " 0.14642455 0.14509706 0.14256731 0.1377583  0.14647464 0.16115216\n",
            " 0.17092048 0.16961803 0.181866   0.17257358 0.16904195 0.18149029\n",
            " 0.16385723 0.16105197 0.15757044 0.16568566 0.17232311 0.17392611\n",
            " 0.18407013 0.18146525 0.18169067 0.17873513 0.17715717 0.18827802\n",
            " 0.18249217 0.17051972 0.16320601 0.16363181 0.1636819  0.17092048\n",
            " 0.17204759 0.1636819  0.16588604 0.16385157 0.16298266 0.16216199\n",
            " 0.16137151 0.16061114 0.15988532 0.15919812 0.15855183 0.15794706\n",
            " 0.15738329 0.15685916 0.15637289 0.15592235 0.15550533 0.15511933\n",
            " 0.15476194 0.15443069 0.15412299 0.15383644 0.15356863 0.15331723\n",
            " 0.15307994 0.15285483 0.15263978 0.15243308 0.15223302 0.15203807\n",
            " 0.15184692 0.15165831 0.15147115 0.15128455 0.15109771 0.15091\n",
            " 0.15072082 0.15052976 0.15033652 0.15014084 0.14994258 0.14974162\n",
            " 0.14953801 0.14933178 0.14912306 0.14891195 0.14869863 0.14848328\n",
            " 0.14826618 0.14804752 0.14782758 0.14760657]\n",
            "19 day output[[0.14738481]]\n",
            "20 day input[0.1105072  0.1113087  0.10920476 0.1101315  0.10289292 0.10276769\n",
            " 0.10807765 0.10810269 0.11060739 0.11684408 0.12781465 0.13452724\n",
            " 0.13570445 0.13668128 0.13800877 0.12515967 0.13375078 0.14642455\n",
            " 0.14509706 0.14256731 0.1377583  0.14647464 0.16115216 0.17092048\n",
            " 0.16961803 0.181866   0.17257358 0.16904195 0.18149029 0.16385723\n",
            " 0.16105197 0.15757044 0.16568566 0.17232311 0.17392611 0.18407013\n",
            " 0.18146525 0.18169067 0.17873513 0.17715717 0.18827802 0.18249217\n",
            " 0.17051972 0.16320601 0.16363181 0.1636819  0.17092048 0.17204759\n",
            " 0.1636819  0.16588604 0.16385157 0.16298266 0.16216199 0.16137151\n",
            " 0.16061114 0.15988532 0.15919812 0.15855183 0.15794706 0.15738329\n",
            " 0.15685916 0.15637289 0.15592235 0.15550533 0.15511933 0.15476194\n",
            " 0.15443069 0.15412299 0.15383644 0.15356863 0.15331723 0.15307994\n",
            " 0.15285483 0.15263978 0.15243308 0.15223302 0.15203807 0.15184692\n",
            " 0.15165831 0.15147115 0.15128455 0.15109771 0.15091    0.15072082\n",
            " 0.15052976 0.15033652 0.15014084 0.14994258 0.14974162 0.14953801\n",
            " 0.14933178 0.14912306 0.14891195 0.14869863 0.14848328 0.14826618\n",
            " 0.14804752 0.14782758 0.14760657 0.14738481]\n",
            "20 day output[[0.14716248]]\n",
            "21 day input[0.1113087  0.10920476 0.1101315  0.10289292 0.10276769 0.10807765\n",
            " 0.10810269 0.11060739 0.11684408 0.12781465 0.13452724 0.13570445\n",
            " 0.13668128 0.13800877 0.12515967 0.13375078 0.14642455 0.14509706\n",
            " 0.14256731 0.1377583  0.14647464 0.16115216 0.17092048 0.16961803\n",
            " 0.181866   0.17257358 0.16904195 0.18149029 0.16385723 0.16105197\n",
            " 0.15757044 0.16568566 0.17232311 0.17392611 0.18407013 0.18146525\n",
            " 0.18169067 0.17873513 0.17715717 0.18827802 0.18249217 0.17051972\n",
            " 0.16320601 0.16363181 0.1636819  0.17092048 0.17204759 0.1636819\n",
            " 0.16588604 0.16385157 0.16298266 0.16216199 0.16137151 0.16061114\n",
            " 0.15988532 0.15919812 0.15855183 0.15794706 0.15738329 0.15685916\n",
            " 0.15637289 0.15592235 0.15550533 0.15511933 0.15476194 0.15443069\n",
            " 0.15412299 0.15383644 0.15356863 0.15331723 0.15307994 0.15285483\n",
            " 0.15263978 0.15243308 0.15223302 0.15203807 0.15184692 0.15165831\n",
            " 0.15147115 0.15128455 0.15109771 0.15091    0.15072082 0.15052976\n",
            " 0.15033652 0.15014084 0.14994258 0.14974162 0.14953801 0.14933178\n",
            " 0.14912306 0.14891195 0.14869863 0.14848328 0.14826618 0.14804752\n",
            " 0.14782758 0.14760657 0.14738481 0.14716248]\n",
            "21 day output[[0.14693984]]\n",
            "22 day input[0.10920476 0.1101315  0.10289292 0.10276769 0.10807765 0.10810269\n",
            " 0.11060739 0.11684408 0.12781465 0.13452724 0.13570445 0.13668128\n",
            " 0.13800877 0.12515967 0.13375078 0.14642455 0.14509706 0.14256731\n",
            " 0.1377583  0.14647464 0.16115216 0.17092048 0.16961803 0.181866\n",
            " 0.17257358 0.16904195 0.18149029 0.16385723 0.16105197 0.15757044\n",
            " 0.16568566 0.17232311 0.17392611 0.18407013 0.18146525 0.18169067\n",
            " 0.17873513 0.17715717 0.18827802 0.18249217 0.17051972 0.16320601\n",
            " 0.16363181 0.1636819  0.17092048 0.17204759 0.1636819  0.16588604\n",
            " 0.16385157 0.16298266 0.16216199 0.16137151 0.16061114 0.15988532\n",
            " 0.15919812 0.15855183 0.15794706 0.15738329 0.15685916 0.15637289\n",
            " 0.15592235 0.15550533 0.15511933 0.15476194 0.15443069 0.15412299\n",
            " 0.15383644 0.15356863 0.15331723 0.15307994 0.15285483 0.15263978\n",
            " 0.15243308 0.15223302 0.15203807 0.15184692 0.15165831 0.15147115\n",
            " 0.15128455 0.15109771 0.15091    0.15072082 0.15052976 0.15033652\n",
            " 0.15014084 0.14994258 0.14974162 0.14953801 0.14933178 0.14912306\n",
            " 0.14891195 0.14869863 0.14848328 0.14826618 0.14804752 0.14782758\n",
            " 0.14760657 0.14738481 0.14716248 0.14693984]\n",
            "22 day output[[0.14671716]]\n",
            "23 day input[0.1101315  0.10289292 0.10276769 0.10807765 0.10810269 0.11060739\n",
            " 0.11684408 0.12781465 0.13452724 0.13570445 0.13668128 0.13800877\n",
            " 0.12515967 0.13375078 0.14642455 0.14509706 0.14256731 0.1377583\n",
            " 0.14647464 0.16115216 0.17092048 0.16961803 0.181866   0.17257358\n",
            " 0.16904195 0.18149029 0.16385723 0.16105197 0.15757044 0.16568566\n",
            " 0.17232311 0.17392611 0.18407013 0.18146525 0.18169067 0.17873513\n",
            " 0.17715717 0.18827802 0.18249217 0.17051972 0.16320601 0.16363181\n",
            " 0.1636819  0.17092048 0.17204759 0.1636819  0.16588604 0.16385157\n",
            " 0.16298266 0.16216199 0.16137151 0.16061114 0.15988532 0.15919812\n",
            " 0.15855183 0.15794706 0.15738329 0.15685916 0.15637289 0.15592235\n",
            " 0.15550533 0.15511933 0.15476194 0.15443069 0.15412299 0.15383644\n",
            " 0.15356863 0.15331723 0.15307994 0.15285483 0.15263978 0.15243308\n",
            " 0.15223302 0.15203807 0.15184692 0.15165831 0.15147115 0.15128455\n",
            " 0.15109771 0.15091    0.15072082 0.15052976 0.15033652 0.15014084\n",
            " 0.14994258 0.14974162 0.14953801 0.14933178 0.14912306 0.14891195\n",
            " 0.14869863 0.14848328 0.14826618 0.14804752 0.14782758 0.14760657\n",
            " 0.14738481 0.14716248 0.14693984 0.14671716]\n",
            "23 day output[[0.14649469]]\n",
            "24 day input[0.10289292 0.10276769 0.10807765 0.10810269 0.11060739 0.11684408\n",
            " 0.12781465 0.13452724 0.13570445 0.13668128 0.13800877 0.12515967\n",
            " 0.13375078 0.14642455 0.14509706 0.14256731 0.1377583  0.14647464\n",
            " 0.16115216 0.17092048 0.16961803 0.181866   0.17257358 0.16904195\n",
            " 0.18149029 0.16385723 0.16105197 0.15757044 0.16568566 0.17232311\n",
            " 0.17392611 0.18407013 0.18146525 0.18169067 0.17873513 0.17715717\n",
            " 0.18827802 0.18249217 0.17051972 0.16320601 0.16363181 0.1636819\n",
            " 0.17092048 0.17204759 0.1636819  0.16588604 0.16385157 0.16298266\n",
            " 0.16216199 0.16137151 0.16061114 0.15988532 0.15919812 0.15855183\n",
            " 0.15794706 0.15738329 0.15685916 0.15637289 0.15592235 0.15550533\n",
            " 0.15511933 0.15476194 0.15443069 0.15412299 0.15383644 0.15356863\n",
            " 0.15331723 0.15307994 0.15285483 0.15263978 0.15243308 0.15223302\n",
            " 0.15203807 0.15184692 0.15165831 0.15147115 0.15128455 0.15109771\n",
            " 0.15091    0.15072082 0.15052976 0.15033652 0.15014084 0.14994258\n",
            " 0.14974162 0.14953801 0.14933178 0.14912306 0.14891195 0.14869863\n",
            " 0.14848328 0.14826618 0.14804752 0.14782758 0.14760657 0.14738481\n",
            " 0.14716248 0.14693984 0.14671716 0.14649469]\n",
            "24 day output[[0.14627255]]\n",
            "25 day input[0.10276769 0.10807765 0.10810269 0.11060739 0.11684408 0.12781465\n",
            " 0.13452724 0.13570445 0.13668128 0.13800877 0.12515967 0.13375078\n",
            " 0.14642455 0.14509706 0.14256731 0.1377583  0.14647464 0.16115216\n",
            " 0.17092048 0.16961803 0.181866   0.17257358 0.16904195 0.18149029\n",
            " 0.16385723 0.16105197 0.15757044 0.16568566 0.17232311 0.17392611\n",
            " 0.18407013 0.18146525 0.18169067 0.17873513 0.17715717 0.18827802\n",
            " 0.18249217 0.17051972 0.16320601 0.16363181 0.1636819  0.17092048\n",
            " 0.17204759 0.1636819  0.16588604 0.16385157 0.16298266 0.16216199\n",
            " 0.16137151 0.16061114 0.15988532 0.15919812 0.15855183 0.15794706\n",
            " 0.15738329 0.15685916 0.15637289 0.15592235 0.15550533 0.15511933\n",
            " 0.15476194 0.15443069 0.15412299 0.15383644 0.15356863 0.15331723\n",
            " 0.15307994 0.15285483 0.15263978 0.15243308 0.15223302 0.15203807\n",
            " 0.15184692 0.15165831 0.15147115 0.15128455 0.15109771 0.15091\n",
            " 0.15072082 0.15052976 0.15033652 0.15014084 0.14994258 0.14974162\n",
            " 0.14953801 0.14933178 0.14912306 0.14891195 0.14869863 0.14848328\n",
            " 0.14826618 0.14804752 0.14782758 0.14760657 0.14738481 0.14716248\n",
            " 0.14693984 0.14671716 0.14649469 0.14627255]\n",
            "25 day output[[0.14605103]]\n",
            "26 day input[0.10807765 0.10810269 0.11060739 0.11684408 0.12781465 0.13452724\n",
            " 0.13570445 0.13668128 0.13800877 0.12515967 0.13375078 0.14642455\n",
            " 0.14509706 0.14256731 0.1377583  0.14647464 0.16115216 0.17092048\n",
            " 0.16961803 0.181866   0.17257358 0.16904195 0.18149029 0.16385723\n",
            " 0.16105197 0.15757044 0.16568566 0.17232311 0.17392611 0.18407013\n",
            " 0.18146525 0.18169067 0.17873513 0.17715717 0.18827802 0.18249217\n",
            " 0.17051972 0.16320601 0.16363181 0.1636819  0.17092048 0.17204759\n",
            " 0.1636819  0.16588604 0.16385157 0.16298266 0.16216199 0.16137151\n",
            " 0.16061114 0.15988532 0.15919812 0.15855183 0.15794706 0.15738329\n",
            " 0.15685916 0.15637289 0.15592235 0.15550533 0.15511933 0.15476194\n",
            " 0.15443069 0.15412299 0.15383644 0.15356863 0.15331723 0.15307994\n",
            " 0.15285483 0.15263978 0.15243308 0.15223302 0.15203807 0.15184692\n",
            " 0.15165831 0.15147115 0.15128455 0.15109771 0.15091    0.15072082\n",
            " 0.15052976 0.15033652 0.15014084 0.14994258 0.14974162 0.14953801\n",
            " 0.14933178 0.14912306 0.14891195 0.14869863 0.14848328 0.14826618\n",
            " 0.14804752 0.14782758 0.14760657 0.14738481 0.14716248 0.14693984\n",
            " 0.14671716 0.14649469 0.14627255 0.14605103]\n",
            "26 day output[[0.14583029]]\n",
            "27 day input[0.10810269 0.11060739 0.11684408 0.12781465 0.13452724 0.13570445\n",
            " 0.13668128 0.13800877 0.12515967 0.13375078 0.14642455 0.14509706\n",
            " 0.14256731 0.1377583  0.14647464 0.16115216 0.17092048 0.16961803\n",
            " 0.181866   0.17257358 0.16904195 0.18149029 0.16385723 0.16105197\n",
            " 0.15757044 0.16568566 0.17232311 0.17392611 0.18407013 0.18146525\n",
            " 0.18169067 0.17873513 0.17715717 0.18827802 0.18249217 0.17051972\n",
            " 0.16320601 0.16363181 0.1636819  0.17092048 0.17204759 0.1636819\n",
            " 0.16588604 0.16385157 0.16298266 0.16216199 0.16137151 0.16061114\n",
            " 0.15988532 0.15919812 0.15855183 0.15794706 0.15738329 0.15685916\n",
            " 0.15637289 0.15592235 0.15550533 0.15511933 0.15476194 0.15443069\n",
            " 0.15412299 0.15383644 0.15356863 0.15331723 0.15307994 0.15285483\n",
            " 0.15263978 0.15243308 0.15223302 0.15203807 0.15184692 0.15165831\n",
            " 0.15147115 0.15128455 0.15109771 0.15091    0.15072082 0.15052976\n",
            " 0.15033652 0.15014084 0.14994258 0.14974162 0.14953801 0.14933178\n",
            " 0.14912306 0.14891195 0.14869863 0.14848328 0.14826618 0.14804752\n",
            " 0.14782758 0.14760657 0.14738481 0.14716248 0.14693984 0.14671716\n",
            " 0.14649469 0.14627255 0.14605103 0.14583029]\n",
            "27 day output[[0.1456105]]\n",
            "28 day input[0.11060739 0.11684408 0.12781465 0.13452724 0.13570445 0.13668128\n",
            " 0.13800877 0.12515967 0.13375078 0.14642455 0.14509706 0.14256731\n",
            " 0.1377583  0.14647464 0.16115216 0.17092048 0.16961803 0.181866\n",
            " 0.17257358 0.16904195 0.18149029 0.16385723 0.16105197 0.15757044\n",
            " 0.16568566 0.17232311 0.17392611 0.18407013 0.18146525 0.18169067\n",
            " 0.17873513 0.17715717 0.18827802 0.18249217 0.17051972 0.16320601\n",
            " 0.16363181 0.1636819  0.17092048 0.17204759 0.1636819  0.16588604\n",
            " 0.16385157 0.16298266 0.16216199 0.16137151 0.16061114 0.15988532\n",
            " 0.15919812 0.15855183 0.15794706 0.15738329 0.15685916 0.15637289\n",
            " 0.15592235 0.15550533 0.15511933 0.15476194 0.15443069 0.15412299\n",
            " 0.15383644 0.15356863 0.15331723 0.15307994 0.15285483 0.15263978\n",
            " 0.15243308 0.15223302 0.15203807 0.15184692 0.15165831 0.15147115\n",
            " 0.15128455 0.15109771 0.15091    0.15072082 0.15052976 0.15033652\n",
            " 0.15014084 0.14994258 0.14974162 0.14953801 0.14933178 0.14912306\n",
            " 0.14891195 0.14869863 0.14848328 0.14826618 0.14804752 0.14782758\n",
            " 0.14760657 0.14738481 0.14716248 0.14693984 0.14671716 0.14649469\n",
            " 0.14627255 0.14605103 0.14583029 0.1456105 ]\n",
            "28 day output[[0.14539176]]\n",
            "29 day input[0.11684408 0.12781465 0.13452724 0.13570445 0.13668128 0.13800877\n",
            " 0.12515967 0.13375078 0.14642455 0.14509706 0.14256731 0.1377583\n",
            " 0.14647464 0.16115216 0.17092048 0.16961803 0.181866   0.17257358\n",
            " 0.16904195 0.18149029 0.16385723 0.16105197 0.15757044 0.16568566\n",
            " 0.17232311 0.17392611 0.18407013 0.18146525 0.18169067 0.17873513\n",
            " 0.17715717 0.18827802 0.18249217 0.17051972 0.16320601 0.16363181\n",
            " 0.1636819  0.17092048 0.17204759 0.1636819  0.16588604 0.16385157\n",
            " 0.16298266 0.16216199 0.16137151 0.16061114 0.15988532 0.15919812\n",
            " 0.15855183 0.15794706 0.15738329 0.15685916 0.15637289 0.15592235\n",
            " 0.15550533 0.15511933 0.15476194 0.15443069 0.15412299 0.15383644\n",
            " 0.15356863 0.15331723 0.15307994 0.15285483 0.15263978 0.15243308\n",
            " 0.15223302 0.15203807 0.15184692 0.15165831 0.15147115 0.15128455\n",
            " 0.15109771 0.15091    0.15072082 0.15052976 0.15033652 0.15014084\n",
            " 0.14994258 0.14974162 0.14953801 0.14933178 0.14912306 0.14891195\n",
            " 0.14869863 0.14848328 0.14826618 0.14804752 0.14782758 0.14760657\n",
            " 0.14738481 0.14716248 0.14693984 0.14671716 0.14649469 0.14627255\n",
            " 0.14605103 0.14583029 0.1456105  0.14539176]\n",
            "29 day output[[0.14517432]]\n",
            "[[0.15128454566001892], [0.15109771490097046], [0.15091000497341156], [0.15072081983089447], [0.15052975714206696], [0.15033651888370514], [0.15014083683490753], [0.1499425768852234], [0.14974161982536316], [0.14953801035881042], [0.14933177828788757], [0.14912305772304535], [0.1489119529724121], [0.148698627948761], [0.1484832763671875], [0.14826618134975433], [0.1480475217103958], [0.14782758057117462], [0.14760656654834747], [0.14738480746746063], [0.14716248214244843], [0.14693984389305115], [0.1467171609401703], [0.14649468660354614], [0.14627255499362946], [0.14605103433132172], [0.14583028852939606], [0.1456104964017868], [0.14539176225662231], [0.1451743245124817]]\n"
          ]
        }
      ]
    },
    {
      "cell_type": "code",
      "source": [
        "day_new =np.arange(1, 101)\n",
        "day_pred=np.arange(101,131)"
      ],
      "metadata": {
        "id": "77HMwEDvqZgb"
      },
      "execution_count": null,
      "outputs": []
    },
    {
      "cell_type": "code",
      "source": [
        "import matplotlib.pyplot as plt\n"
      ],
      "metadata": {
        "id": "5pi0qCfw3Sra"
      },
      "execution_count": null,
      "outputs": []
    },
    {
      "cell_type": "code",
      "source": [
        "len(df1)"
      ],
      "metadata": {
        "colab": {
          "base_uri": "https://localhost:8080/"
        },
        "id": "J8CFrmkZ3bQC",
        "outputId": "55634c8e-4d8b-4ef8-d879-25cf418b8837"
      },
      "execution_count": null,
      "outputs": [
        {
          "output_type": "execute_result",
          "data": {
            "text/plain": [
              "1260"
            ]
          },
          "metadata": {},
          "execution_count": 46
        }
      ]
    },
    {
      "cell_type": "code",
      "source": [
        ""
      ],
      "metadata": {
        "id": "DH0IqbAG3caw"
      },
      "execution_count": null,
      "outputs": []
    },
    {
      "cell_type": "code",
      "source": [
        "plt.plot(day_new,Scaler.inverse_transform(df1[1160:]))\n",
        "plt.plot(day_pred,Scaler.inverse_transform(lst_output))\n"
      ],
      "metadata": {
        "colab": {
          "base_uri": "https://localhost:8080/",
          "height": 282
        },
        "id": "gPkPtqjF3m2r",
        "outputId": "0a1d3f2d-1fb7-438c-c581-b8e2989de5f4"
      },
      "execution_count": null,
      "outputs": [
        {
          "output_type": "execute_result",
          "data": {
            "text/plain": [
              "[<matplotlib.lines.Line2D at 0x7f57f514f3d0>]"
            ]
          },
          "metadata": {},
          "execution_count": 51
        },
        {
          "output_type": "display_data",
          "data": {
            "image/png": "[encoded data removed]",
            "text/plain": [
              "<Figure size 432x288 with 1 Axes>"
            ]
          },
          "metadata": {
            "needs_background": "light"
          }
        }
      ]
    },
    {
      "cell_type": "code",
      "source": [
        "df3=df1.tolist()\n",
        "df3.extend(lst_output)\n",
        "plt.plot(df3[1000:])"
      ],
      "metadata": {
        "colab": {
          "base_uri": "https://localhost:8080/",
          "height": 282
        },
        "id": "mmwPDqmi35Ac",
        "outputId": "5fc0f2fc-0483-4e93-cd04-e3b4ef8ffd87"
      },
      "execution_count": null,
      "outputs": [
        {
          "output_type": "execute_result",
          "data": {
            "text/plain": [
              "[<matplotlib.lines.Line2D at 0x7f57f50542d0>]"
            ]
          },
          "metadata": {},
          "execution_count": 53
        },
        {
          "output_type": "display_data",
          "data": {
            "image/png": "[encoded data removed]",
            "text/plain": [
              "<Figure size 432x288 with 1 Axes>"
            ]
          },
          "metadata": {
            "needs_background": "light"
          }
        }
      ]
    },
    {
      "cell_type": "code",
      "source": [
        "df3=df1.tolist()\n",
        "df3.extend(lst_output)\n",
        "plt.plot(df3[1200:])"
      ],
      "metadata": {
        "colab": {
          "base_uri": "https://localhost:8080/",
          "height": 282
        },
        "id": "C2JtmpVW44wh",
        "outputId": "6d30483c-c846-4e97-f1e6-5937823b8cdb"
      },
      "execution_count": null,
      "outputs": [
        {
          "output_type": "execute_result",
          "data": {
            "text/plain": [
              "[<matplotlib.lines.Line2D at 0x7f57f5028550>]"
            ]
          },
          "metadata": {},
          "execution_count": 54
        },
        {
          "output_type": "display_data",
          "data": {
            "image/png": "[encoded data removed]",
            "text/plain": [
              "<Figure size 432x288 with 1 Axes>"
            ]
          },
          "metadata": {
            "needs_background": "light"
          }
        }
      ]
    },
    {
      "cell_type": "code",
      "source": [
        ""
      ],
      "metadata": {
        "id": "lrubFrOE5N0M"
      },
      "execution_count": null,
      "outputs": []
    }
  ]
}